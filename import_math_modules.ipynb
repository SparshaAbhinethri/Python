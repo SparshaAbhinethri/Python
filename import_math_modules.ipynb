{
  "nbformat": 4,
  "nbformat_minor": 0,
  "metadata": {
    "colab": {
      "name": "import math modules.ipynb",
      "provenance": [],
      "authorship_tag": "ABX9TyO1JQ3hswngenxTeoGfR6sU",
      "include_colab_link": true
    },
    "kernelspec": {
      "name": "python3",
      "display_name": "Python 3"
    }
  },
  "cells": [
    {
      "cell_type": "markdown",
      "metadata": {
        "id": "view-in-github",
        "colab_type": "text"
      },
      "source": [
        "<a href=\"https://colab.research.google.com/github/SparshaAbhinethri/Python/blob/main/import_math_modules.ipynb\" target=\"_parent\"><img src=\"https://colab.research.google.com/assets/colab-badge.svg\" alt=\"Open In Colab\"/></a>"
      ]
    },
    {
      "cell_type": "markdown",
      "metadata": {
        "id": "ra4ZeWDojEw-"
      },
      "source": [
        "All directories in math functions"
      ]
    },
    {
      "cell_type": "code",
      "metadata": {
        "id": "6yyaQujQiN7h",
        "colab": {
          "base_uri": "https://localhost:8080/",
          "height": 54
        },
        "outputId": "334df53f-760b-4987-8ee5-49faafee4143"
      },
      "source": [
        "import math\n",
        "print(dir(math))"
      ],
      "execution_count": null,
      "outputs": [
        {
          "output_type": "stream",
          "text": [
            "['__doc__', '__loader__', '__name__', '__package__', '__spec__', 'acos', 'acosh', 'asin', 'asinh', 'atan', 'atan2', 'atanh', 'ceil', 'copysign', 'cos', 'cosh', 'degrees', 'e', 'erf', 'erfc', 'exp', 'expm1', 'fabs', 'factorial', 'floor', 'fmod', 'frexp', 'fsum', 'gamma', 'gcd', 'hypot', 'inf', 'isclose', 'isfinite', 'isinf', 'isnan', 'ldexp', 'lgamma', 'log', 'log10', 'log1p', 'log2', 'modf', 'nan', 'pi', 'pow', 'radians', 'sin', 'sinh', 'sqrt', 'tan', 'tanh', 'tau', 'trunc']\n"
          ],
          "name": "stdout"
        }
      ]
    },
    {
      "cell_type": "markdown",
      "metadata": {
        "id": "S-o-C7HZkABB"
      },
      "source": [
        "math modules with \"F\""
      ]
    },
    {
      "cell_type": "code",
      "metadata": {
        "id": "OLzJOxWYkF91",
        "colab": {
          "base_uri": "https://localhost:8080/",
          "height": 119
        },
        "outputId": "33b964c2-27de-4789-f551-25a0f83a0c5a"
      },
      "source": [
        "import math\n",
        "nums = [1,3,5,0,8,9.0,5,6,4,3,5.4]\n",
        "print(\"Factorial of a given number is {}\".format(math.factorial(5)))\n",
        "print(\"The absolute value of a given number is {}\".format(math.fabs(-2.8545))) #fabs returns the absolute value of a number (if a negative no is given , it converts into a posiitve number)\n",
        "print(math.floor(10.78)) \n",
        "print(math.fmod(-5.9,3))\n",
        "print(math.frexp(3)) #returns mantissa\n",
        "print(math.fsum(nums))"
      ],
      "execution_count": null,
      "outputs": [
        {
          "output_type": "stream",
          "text": [
            "Factorial of a given number is 120\n",
            "The absolute value of a given number is 2.8545\n",
            "10\n",
            "-2.9000000000000004\n",
            "(0.75, 2)\n",
            "49.4\n"
          ],
          "name": "stdout"
        }
      ]
    },
    {
      "cell_type": "markdown",
      "metadata": {
        "id": "mCV8WfpaosPx"
      },
      "source": [
        "math modules with \"G\",\"H\",\"I\""
      ]
    },
    {
      "cell_type": "code",
      "metadata": {
        "id": "gG5vYmIKoyX6",
        "colab": {
          "base_uri": "https://localhost:8080/",
          "height": 102
        },
        "outputId": "f85a978f-897a-405b-866a-b9a880edb87f"
      },
      "source": [
        "import math\n",
        "print(math.gamma(4)) #returns factorial of (x-1)\n",
        "print(math.gcd(2,6)) #returns H.C.F\n",
        "print(math.hypot(3,4)) #returns hypotenuse (root 2 over x^2 + y^2)\n",
        "print(math.isclose(1.33,1.330000000001)) #returns if 2 numbers are veryyyyyyy close\n",
        "print(math.isfinite(2.0000004500787488888888888888888))\n",
        "\n"
      ],
      "execution_count": null,
      "outputs": [
        {
          "output_type": "stream",
          "text": [
            "6.0\n",
            "2\n",
            "5.0\n",
            "True\n",
            "True\n"
          ],
          "name": "stdout"
        }
      ]
    },
    {
      "cell_type": "code",
      "metadata": {
        "id": "AlIylczymhhu",
        "colab": {
          "base_uri": "https://localhost:8080/",
          "height": 85
        },
        "outputId": "083edc1a-fed6-4176-d4c4-bc1b4c2dfb33"
      },
      "source": [
        "n , m = int(input()), int(input())\n",
        "print(n)\n",
        "print(m)"
      ],
      "execution_count": null,
      "outputs": [
        {
          "output_type": "stream",
          "text": [
            "2\n",
            "3\n",
            "2\n",
            "3\n"
          ],
          "name": "stdout"
        }
      ]
    }
  ]
}
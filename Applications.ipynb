{
  "nbformat": 4,
  "nbformat_minor": 0,
  "metadata": {
    "colab": {
      "name": "Applications.ipynb",
      "provenance": [],
      "authorship_tag": "ABX9TyOANTBGetHdaoe2Z68m/CAm",
      "include_colab_link": true
    },
    "kernelspec": {
      "name": "python3",
      "display_name": "Python 3"
    }
  },
  "cells": [
    {
      "cell_type": "markdown",
      "metadata": {
        "id": "view-in-github",
        "colab_type": "text"
      },
      "source": [
        "<a href=\"https://colab.research.google.com/github/SparshaAbhinethri/Python/blob/main/Applications.ipynb\" target=\"_parent\"><img src=\"https://colab.research.google.com/assets/colab-badge.svg\" alt=\"Open In Colab\"/></a>"
      ]
    },
    {
      "cell_type": "markdown",
      "metadata": {
        "id": "SjSsVxmrRuPa"
      },
      "source": [
        "Electricity Bill"
      ]
    },
    {
      "cell_type": "code",
      "metadata": {
        "id": "UTMZW041MGan",
        "colab": {
          "base_uri": "https://localhost:8080/",
          "height": 54
        },
        "outputId": "676ace5a-e83d-4f1d-bb7f-d0447c8fe6b5"
      },
      "source": [
        "a = int(input())\n",
        "if 0<a<100:\n",
        "  c = int(a)*10\n",
        "  print(\"The total amount to be paid for {} watts is {} Rupees\".format(a,c))\n",
        "elif 100<a<200:\n",
        "  d = (a - 100)*15 + 100*10\n",
        "  print(\"The total amount to be paid for {} watts is {} Rupees\".format(a,d))\n",
        "elif 200<a<300:\n",
        "  e = 100*10 + 100*15 + (a-200)*20\n",
        "  print(\"The total amount to be paid for {} watts is {} Rupees\".format(a,e))\n",
        "else:\n",
        "  f = 1000 + 1500 + 2000 + (a-300)*25\n",
        "  print(\"The total amount to be paid for {} watts is {} Rupees\".format(a,f))\n",
        "  \n"
      ],
      "execution_count": null,
      "outputs": [
        {
          "output_type": "stream",
          "text": [
            "400\n",
            "The total amount to be paid for 400 watts is 7000 Rupees\n"
          ],
          "name": "stdout"
        }
      ]
    },
    {
      "cell_type": "markdown",
      "metadata": {
        "id": "HpCnddaehU6H"
      },
      "source": [
        "Calculate BMI"
      ]
    },
    {
      "cell_type": "code",
      "metadata": {
        "id": "PrkVIi6thZQ8",
        "colab": {
          "base_uri": "https://localhost:8080/",
          "height": 111
        },
        "outputId": "bb0bae46-e304-4b1a-8df5-567d633c1dcd"
      },
      "source": [
        "#In Metric units\n",
        "Gender = input(\"Are you Male or Female ? \")\n",
        "if (Gender == \"Female\" or \"female\"):\n",
        "  age = int(input(\"Please enter your age : \"))\n",
        "  weight = float(input(\"Enter your weight : \"))\n",
        "  height = float(input(\"Enter your height in meters : \"))\n",
        "  BMI = round((weight/(height ** 2)),2)\n",
        "  print(\"Your Body Mass Index is {0}: \".format(BMI))\n",
        "  if (age>18):\n",
        "     if (BMI <= 16):\n",
        "        print(\"You are extreme thin\")\n",
        "     elif (16 < BMI <= 17):\n",
        "        print(\"You are moderatey thin\")\n",
        "     elif (17 < BMI <= 18.5):\n",
        "        print(\"You are mild thin\")\n",
        "     elif (18.5 < BMI <= 25):\n",
        "        print(\"You are healthy\")\n",
        "     elif (25 < BMI <= 30):\n",
        "        print(\"You are overweight\")\n",
        "     elif (30 < BMI <= 35):\n",
        "        print(\"You fall into Obese Class 1\")\n",
        "     elif (35 < BMI <= 40):\n",
        "        print(\"You fall into Obese Class 2\")\n",
        "     else:\n",
        "        print(\"You fall into Obese Class 3\")\n",
        "  elif (2<age<18):\n",
        "     if (BMI <= 5):\n",
        "         print(\"You are underweight\")\n",
        "     elif (5 < BMI <= 85):\n",
        "         print(\"You are healthy\")\n",
        "     elif (85 < BMI <= 95):\n",
        "         print(\"You are at risk of overweight\")\n",
        "     else:\n",
        "         print(\"You are overweight\")"
      ],
      "execution_count": null,
      "outputs": [
        {
          "output_type": "stream",
          "text": [
            "Are you Male or Female ? female\n",
            "Please enter your age : 43\n",
            "Enter your weight : 74.5\n"
          ],
          "name": "stdout"
        }
      ]
    },
    {
      "cell_type": "markdown",
      "metadata": {
        "id": "yDgna7uHk9P5"
      },
      "source": [
        "Print (n + nn + nnn + n(m times) series"
      ]
    },
    {
      "cell_type": "code",
      "metadata": {
        "id": "0ecuD74HlF4K"
      },
      "source": [
        "n = int(input())\n",
        "m = int(input())\n",
        "while (n>0):\n",
        "  \n",
        "\n",
        "sum = 0\n",
        "for i in m:\n",
        "  sum = sum + n*(m-i)\n"
      ],
      "execution_count": null,
      "outputs": []
    },
    {
      "cell_type": "markdown",
      "metadata": {
        "id": "lufw1rU81z6B"
      },
      "source": [
        "Check whether the series is in Arithmetic Progession"
      ]
    },
    {
      "cell_type": "code",
      "metadata": {
        "id": "LoP7mq0u1-54",
        "colab": {
          "base_uri": "https://localhost:8080/",
          "height": 145
        },
        "outputId": "aaf32232-943a-4d6d-ab95-abe834fa77de"
      },
      "source": [
        "a = int(input())\n",
        "if (a<=2):\n",
        "  print(\"Enter few more numbers\")\n",
        "lst = []\n",
        "if (a>2):\n",
        "   for i in range(0,a):\n",
        "      c = int(input())\n",
        "      lst.append(c)\n",
        "print(lst)\n",
        "\n",
        "for i in range(0,(a-2)):\n",
        "  if (lst[i+1]-lst[i]!=lst[i+2] - lst[i+1]):\n",
        "    print(\"The given seies is not in Arithmetic Progession\")\n",
        "    break\n",
        "  else:\n",
        "    print(\"The given list is in Arithmetic Progression\")\n",
        "    break\n",
        "    "
      ],
      "execution_count": null,
      "outputs": [
        {
          "output_type": "stream",
          "text": [
            "4\n",
            "2\n",
            "4\n",
            "6\n",
            "8\n",
            "[2, 4, 6, 8]\n",
            "The given list is in Arithmetic Progression\n"
          ],
          "name": "stdout"
        }
      ]
    },
    {
      "cell_type": "markdown",
      "metadata": {
        "id": "T6c9Xp2ZliZt"
      },
      "source": [
        "Data Visualisation"
      ]
    },
    {
      "cell_type": "code",
      "metadata": {
        "id": "1KzKQWQ2lmLb",
        "colab": {
          "base_uri": "https://localhost:8080/",
          "height": 249
        },
        "outputId": "dc194919-0079-4a45-9e8b-e865eaf9d7c5"
      },
      "source": [
        "import matplotlib.pyplot as plt\n",
        "labels = \"Sparsha\",\"Lokyaan\",\"Laxman\",\"Srilatha\"\n",
        "ages = [19,15,49,43]\n",
        "fig1,ax1 = plt.subplots()\n",
        "ax1.pie(ages,labels=labels,autopct='%1.0f%%',\n",
        "        shadow = True,startangle=90)\n",
        "ax1.axis(\"equal\")\n",
        "plt.show()"
      ],
      "execution_count": null,
      "outputs": [
        {
          "output_type": "display_data",
          "data": {
            "image/png": "[encoded data removed]",
            "text/plain": [
              "<Figure size 432x288 with 1 Axes>"
            ]
          },
          "metadata": {
            "tags": []
          }
        }
      ]
    },
    {
      "cell_type": "code",
      "metadata": {
        "id": "5imD5y94p_46"
      },
      "source": [
        ""
      ],
      "execution_count": null,
      "outputs": []
    }
  ]
}
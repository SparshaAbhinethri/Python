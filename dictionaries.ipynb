{
  "nbformat": 4,
  "nbformat_minor": 0,
  "metadata": {
    "colab": {
      "name": "dictionaries.ipynb",
      "provenance": [],
      "authorship_tag": "ABX9TyNLxQk2d2QBkeDrnCVpIe2J",
      "include_colab_link": true
    },
    "kernelspec": {
      "name": "python3",
      "display_name": "Python 3"
    }
  },
  "cells": [
    {
      "cell_type": "markdown",
      "metadata": {
        "id": "view-in-github",
        "colab_type": "text"
      },
      "source": [
        "<a href=\"https://colab.research.google.com/github/SparshaAbhinethri/Python/blob/main/dictionaries.ipynb\" target=\"_parent\"><img src=\"https://colab.research.google.com/assets/colab-badge.svg\" alt=\"Open In Colab\"/></a>"
      ]
    },
    {
      "cell_type": "markdown",
      "metadata": {
        "id": "etuhp32iY1hH"
      },
      "source": [
        "Basic Dictionary"
      ]
    },
    {
      "cell_type": "code",
      "metadata": {
        "id": "sOOLw2KIX87F",
        "colab": {
          "base_uri": "https://localhost:8080/",
          "height": 34
        },
        "outputId": "40568942-de75-4273-c53b-dee4e5be954c"
      },
      "source": [
        "car = {\n",
        "    \"Brand\" : \"Audi\",\n",
        "    \"Model\" : \"A4\",\n",
        "    \"Year\" : \"2005\"\n",
        "\n",
        "}\n",
        "print(car)"
      ],
      "execution_count": null,
      "outputs": [
        {
          "output_type": "stream",
          "text": [
            "{'Brand': 'Audi', 'Model': 'A4', 'Year': '2005'}\n"
          ],
          "name": "stdout"
        }
      ]
    },
    {
      "cell_type": "markdown",
      "metadata": {
        "id": "c-XsoiZjY5zK"
      },
      "source": [
        "Accessing elements"
      ]
    },
    {
      "cell_type": "code",
      "metadata": {
        "id": "e7mqG-4sZAP6",
        "colab": {
          "base_uri": "https://localhost:8080/",
          "height": 51
        },
        "outputId": "4fc2a7a6-d618-4b33-8c4f-c6f88ca1692e"
      },
      "source": [
        "print(car[\"Model\"])\n",
        "#or\n",
        "print(car.get(\"Model\"))"
      ],
      "execution_count": null,
      "outputs": [
        {
          "output_type": "stream",
          "text": [
            "A4\n",
            "A4\n"
          ],
          "name": "stdout"
        }
      ]
    },
    {
      "cell_type": "markdown",
      "metadata": {
        "id": "GLso96shbEQ1"
      },
      "source": [
        "Change values and for loop"
      ]
    },
    {
      "cell_type": "code",
      "metadata": {
        "id": "YVX5FtBsbGd8",
        "colab": {
          "base_uri": "https://localhost:8080/",
          "height": 238
        },
        "outputId": "5709db84-ca09-42a7-9e99-7de05551c872"
      },
      "source": [
        "car[\"Year\"] = 2006\n",
        "print(car)\n",
        "for i in car:\n",
        "  print(i) #prints only key names\n",
        "  print(car[i]) #prints only value names\n",
        "#for values\n",
        "for j in car.values():\n",
        "  print(j)\n",
        "#for values and keynames\n",
        "for k in car.items():\n",
        "  print(k)"
      ],
      "execution_count": null,
      "outputs": [
        {
          "output_type": "stream",
          "text": [
            "{'Brand': 'Audi', 'Model': 'A4', 'Year': 2006}\n",
            "Brand\n",
            "Audi\n",
            "Model\n",
            "A4\n",
            "Year\n",
            "2006\n",
            "Audi\n",
            "A4\n",
            "2006\n",
            "('Brand', 'Audi')\n",
            "('Model', 'A4')\n",
            "('Year', 2006)\n"
          ],
          "name": "stdout"
        }
      ]
    }
  ]
}
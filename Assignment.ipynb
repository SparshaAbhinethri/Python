{
  "nbformat": 4,
  "nbformat_minor": 0,
  "metadata": {
    "colab": {
      "name": "Assignment.ipynb",
      "provenance": [],
      "authorship_tag": "ABX9TyOfgbdxcb3qEW5qTRcPd+2w",
      "include_colab_link": true
    },
    "kernelspec": {
      "name": "python3",
      "display_name": "Python 3"
    },
    "language_info": {
      "name": "python"
    }
  },
  "cells": [
    {
      "cell_type": "markdown",
      "metadata": {
        "id": "view-in-github",
        "colab_type": "text"
      },
      "source": [
        "<a href=\"https://colab.research.google.com/github/SparshaAbhinethri/Python/blob/main/Assignment.ipynb\" target=\"_parent\"><img src=\"https://colab.research.google.com/assets/colab-badge.svg\" alt=\"Open In Colab\"/></a>"
      ]
    },
    {
      "cell_type": "code",
      "metadata": {
        "colab": {
          "base_uri": "https://localhost:8080/"
        },
        "id": "JO4reCGwavue",
        "outputId": "65bcb714-9d70-4d6d-ccb7-f4b5c1fda893"
      },
      "source": [
        "list1 = [\"Audi\",\"Ferrari\",\"Mercedes\",\"BMW\",\"Scoda\",\"Aston Martin\"]\n",
        "list1.sort()\n",
        "print(list1)"
      ],
      "execution_count": null,
      "outputs": [
        {
          "output_type": "stream",
          "text": [
            "['Aston Martin', 'Audi', 'BMW', 'Ferrari', 'Mercedes', 'Scoda']\n"
          ],
          "name": "stdout"
        }
      ]
    },
    {
      "cell_type": "code",
      "metadata": {
        "colab": {
          "base_uri": "https://localhost:8080/"
        },
        "id": "X6Q-Z_4ubUgF",
        "outputId": "1ece44da-cf9d-4fed-f781-70b0cac3e2cc"
      },
      "source": [
        "for i in range(20,42,2):\n",
        "  print(i,end = \" \")"
      ],
      "execution_count": null,
      "outputs": [
        {
          "output_type": "stream",
          "text": [
            "20 22 24 26 28 30 32 34 36 38 40 "
          ],
          "name": "stdout"
        }
      ]
    },
    {
      "cell_type": "code",
      "metadata": {
        "colab": {
          "base_uri": "https://localhost:8080/"
        },
        "id": "5fkpTAiwbkuC",
        "outputId": "dc80bf97-97c3-464b-80ca-7fa7185f98e0"
      },
      "source": [
        "a = [2,4,3,5,6,8,7]\n",
        "b = [9,4,5,0,1,2,100]\n",
        "for i in a:\n",
        "  for j in b:\n",
        "      if i==j:\n",
        "         print(\"Overlapping\")"
      ],
      "execution_count": null,
      "outputs": [
        {
          "output_type": "stream",
          "text": [
            "Overlapping\n",
            "Overlapping\n",
            "Overlapping\n"
          ],
          "name": "stdout"
        }
      ]
    }
  ]
}
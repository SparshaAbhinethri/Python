{
  "nbformat": 4,
  "nbformat_minor": 0,
  "metadata": {
    "colab": {
      "name": "Functions.ipynb",
      "provenance": [],
      "authorship_tag": "ABX9TyMpt2Zq3jk5NckzCLHIG2Zv",
      "include_colab_link": true
    },
    "kernelspec": {
      "name": "python3",
      "display_name": "Python 3"
    }
  },
  "cells": [
    {
      "cell_type": "markdown",
      "metadata": {
        "id": "view-in-github",
        "colab_type": "text"
      },
      "source": [
        "<a href=\"https://colab.research.google.com/github/SparshaAbhinethri/Python/blob/main/Functions.ipynb\" target=\"_parent\"><img src=\"https://colab.research.google.com/assets/colab-badge.svg\" alt=\"Open In Colab\"/></a>"
      ]
    },
    {
      "cell_type": "markdown",
      "metadata": {
        "id": "a_H6W7K2zH1T"
      },
      "source": [
        "Creating & Calling a function"
      ]
    },
    {
      "cell_type": "code",
      "metadata": {
        "id": "vKWoOaj2yhMS",
        "colab": {
          "base_uri": "https://localhost:8080/",
          "height": 34
        },
        "outputId": "864529df-4356-481d-ce6d-f51594147c13"
      },
      "source": [
        "def my_name():\n",
        "  print(\"My name is Sparsha\")\n",
        "\n",
        "my_name() #calling a function .... we get o/p only when we write this"
      ],
      "execution_count": null,
      "outputs": [
        {
          "output_type": "stream",
          "text": [
            "My name is Sparsha\n"
          ],
          "name": "stdout"
        }
      ]
    },
    {
      "cell_type": "markdown",
      "metadata": {
        "id": "QXcweFKG1Mz5"
      },
      "source": [
        "Parameters in a function"
      ]
    },
    {
      "cell_type": "code",
      "metadata": {
        "id": "tT-epBO-1aGA",
        "colab": {
          "base_uri": "https://localhost:8080/",
          "height": 102
        },
        "outputId": "b3669fc9-6ec8-4fd0-b5e5-7f3120d6036d"
      },
      "source": [
        "def my_name(a):\n",
        "  print(\"My name is \" + a )\n",
        "\n",
        "my_name(\"Sparsha\") #for 1 parameter\n",
        "\n",
        "def name(a,b):\n",
        "  print(\"My name is \" + a + \" \" + b)\n",
        "\n",
        "name(\"Sparsha\" , \"Abinethri\") #for 2 parameters\n",
        "\n",
        "def second(country = \"India\"):\n",
        "  print(\"I live in \" + country)\n",
        "\n",
        "second(\"India\")\n",
        "second(\"Switerzland\")\n",
        "second()       #default parameter\n"
      ],
      "execution_count": null,
      "outputs": [
        {
          "output_type": "stream",
          "text": [
            "My name is Sparsha\n",
            "My name is Sparsha Abinethri\n",
            "I live in India\n",
            "I live in Switerzland\n",
            "I live in India\n"
          ],
          "name": "stdout"
        }
      ]
    },
    {
      "cell_type": "markdown",
      "metadata": {
        "id": "XGPBhQzx4-PX"
      },
      "source": [
        "Return values and multiplication table"
      ]
    },
    {
      "cell_type": "code",
      "metadata": {
        "id": "-ariQNIE5Bck",
        "colab": {
          "base_uri": "https://localhost:8080/",
          "height": 187
        },
        "outputId": "9118aa6d-f0f3-4ebe-f30e-128e7e048a53"
      },
      "source": [
        "def multiply(a):\n",
        "  for i in range(1,10):\n",
        "    c = a * i\n",
        "    print(\"{} * {} =  {}\".format(a,i,a * i))\n",
        "\n",
        "multiply(5)\n",
        "\n",
        "\n",
        "def ret(a):\n",
        "  return a * 4\n",
        "\n",
        "ret(6) #return value"
      ],
      "execution_count": null,
      "outputs": [
        {
          "output_type": "stream",
          "text": [
            "5 * 1 =  5\n",
            "5 * 2 =  10\n",
            "5 * 3 =  15\n",
            "5 * 4 =  20\n",
            "5 * 5 =  25\n",
            "5 * 6 =  30\n",
            "5 * 7 =  35\n",
            "5 * 8 =  40\n",
            "5 * 9 =  45\n"
          ],
          "name": "stdout"
        },
        {
          "output_type": "execute_result",
          "data": {
            "text/plain": [
              "24"
            ]
          },
          "metadata": {
            "tags": []
          },
          "execution_count": 21
        }
      ]
    },
    {
      "cell_type": "markdown",
      "metadata": {
        "id": "9ZTHDAsG3TLL"
      },
      "source": [
        "Arithmetic Operations"
      ]
    },
    {
      "cell_type": "code",
      "metadata": {
        "id": "QI2Y1g2Q3WMW",
        "colab": {
          "base_uri": "https://localhost:8080/",
          "height": 119
        },
        "outputId": "cca635c4-8ff2-45f8-9000-14aea0643d7c"
      },
      "source": [
        "def arithmetic(a,b):\n",
        "  print(\"{} + {} = {}\".format(a,b,a+b))\n",
        "  print(\"{} * {} = {}\".format(a,b,a*b))\n",
        "  print(\"{} / {} = {}\".format(a,b,a/b))\n",
        "  print(\"{} - {} = {}\".format(a,b,a-b))\n",
        "  print(\"{} to the power {} = {}\".format(a,b,a**b))\n",
        "  print(\"{} % {} = {}\".format(a,b,a%b))\n",
        "  \n",
        "\n",
        "arithmetic(10,5)"
      ],
      "execution_count": null,
      "outputs": [
        {
          "output_type": "stream",
          "text": [
            "10 + 5 = 15\n",
            "10 * 5 = 50\n",
            "10 / 5 = 2.0\n",
            "10 - 5 = 5\n",
            "10 to the power 5 = 100000\n",
            "10 % 5 = 0\n"
          ],
          "name": "stdout"
        }
      ]
    },
    {
      "cell_type": "markdown",
      "metadata": {
        "id": "ZhfRb93V_aA8"
      },
      "source": [
        "Max of the numbers"
      ]
    },
    {
      "cell_type": "code",
      "metadata": {
        "id": "zZ0yB_9S_eNa",
        "colab": {
          "base_uri": "https://localhost:8080/",
          "height": 51
        },
        "outputId": "85d1ee11-b4fd-4d0f-fcb5-488069d8e302"
      },
      "source": [
        "def maximum(a,b,c,d,e):\n",
        "  print( max(a,b,c,d,e))  #in-built max function\n",
        "\n",
        "maximum(1.5,2,3.5,0,2.6)\n",
        "\n",
        "#or\n",
        "\n",
        "def maximum1(x,y,z):\n",
        "  if x > y and x > z:\n",
        "    return x\n",
        "  elif y > x and y > z:\n",
        "    return y\n",
        "  else:\n",
        "    return z\n",
        "\n",
        "maximum1(10,30,20)\n",
        "\n",
        "#if we write return , only the last iteration will be printed\n",
        "# if we write print , then both the iterations will be printed\n",
        "\n"
      ],
      "execution_count": null,
      "outputs": [
        {
          "output_type": "stream",
          "text": [
            "3.5\n"
          ],
          "name": "stdout"
        },
        {
          "output_type": "execute_result",
          "data": {
            "text/plain": [
              "30"
            ]
          },
          "metadata": {
            "tags": []
          },
          "execution_count": 3
        }
      ]
    },
    {
      "cell_type": "markdown",
      "metadata": {
        "id": "AP7HuX6xBjBk"
      },
      "source": [
        "Sum of numbers in a list"
      ]
    },
    {
      "cell_type": "code",
      "metadata": {
        "id": "J8PwqzQcBobd",
        "colab": {
          "base_uri": "https://localhost:8080/",
          "height": 51
        },
        "outputId": "20a43259-7ac6-460c-8dea-5953b486a052"
      },
      "source": [
        "def sum(numbers):\n",
        "  sum1 = 0\n",
        "  for i in numbers:\n",
        "    sum1 += i #automatic typecasting is done if we write code as sum += 1 , else , it gives an error (sum = sum + i)\n",
        "  return sum1\n",
        "print(sum((10,2,3,4,10)))  #this is how , we print list \n",
        "\n",
        "def a(nums):\n",
        "  print(sum(nums))\n",
        "a((10,20,10,20,10))"
      ],
      "execution_count": null,
      "outputs": [
        {
          "output_type": "stream",
          "text": [
            "29\n",
            "70\n"
          ],
          "name": "stdout"
        }
      ]
    },
    {
      "cell_type": "markdown",
      "metadata": {
        "id": "BkxGV3cXCpLC"
      },
      "source": [
        "Multiply all numbers in a list"
      ]
    },
    {
      "cell_type": "code",
      "metadata": {
        "id": "XgMOpuGFCtN5",
        "colab": {
          "base_uri": "https://localhost:8080/",
          "height": 34
        },
        "outputId": "0b980c46-2983-4db0-bc8e-4240bfe2132a"
      },
      "source": [
        "def multiply(numbers):\n",
        "  product = 1\n",
        "  for i in numbers:\n",
        "    product = int(product) * int(i)\n",
        "  return product\n",
        "print(multiply((1,2,3,4,5,-1)))"
      ],
      "execution_count": null,
      "outputs": [
        {
          "output_type": "stream",
          "text": [
            "-120\n"
          ],
          "name": "stdout"
        }
      ]
    },
    {
      "cell_type": "markdown",
      "metadata": {
        "id": "XQAOqtqzDdaB"
      },
      "source": [
        "Reverse a string"
      ]
    },
    {
      "cell_type": "code",
      "metadata": {
        "id": "AFnzBZwvDfZJ",
        "colab": {
          "base_uri": "https://localhost:8080/",
          "height": 35
        },
        "outputId": "1476cd2e-1fc8-4252-bb38-3ada2d0ee54b"
      },
      "source": [
        "def name(a):\n",
        "  a = a[::-1]\n",
        "  \n",
        "  return a\n",
        "\n",
        "name(\"Sparsha\")"
      ],
      "execution_count": null,
      "outputs": [
        {
          "output_type": "execute_result",
          "data": {
            "application/vnd.google.colaboratory.intrinsic": {
              "type": "string"
            },
            "text/plain": [
              "'ahsrapS'"
            ]
          },
          "metadata": {
            "tags": []
          },
          "execution_count": 1
        }
      ]
    },
    {
      "cell_type": "markdown",
      "metadata": {
        "id": "SB3bcd5byvQ_"
      },
      "source": [
        "Factorial of a number"
      ]
    },
    {
      "cell_type": "code",
      "metadata": {
        "id": "YQRSVPFJy0cN",
        "colab": {
          "base_uri": "https://localhost:8080/",
          "height": 34
        },
        "outputId": "192b1219-7ca3-49cc-94d4-ed7c533f0b9a"
      },
      "source": [
        "def fact(a):\n",
        "  product = 1\n",
        "  if a == 0:\n",
        "    return 1\n",
        "  for i in range(1,a+1):\n",
        "    product = product * i\n",
        "  return product\n",
        "\n",
        "print(\"The factorial of a given number is {}\".format(fact(6)))\n"
      ],
      "execution_count": null,
      "outputs": [
        {
          "output_type": "stream",
          "text": [
            "The factorial of a given number is 720\n"
          ],
          "name": "stdout"
        }
      ]
    },
    {
      "cell_type": "markdown",
      "metadata": {
        "id": "SwDilLma1g90"
      },
      "source": [
        "Check whether a number is in the range"
      ]
    },
    {
      "cell_type": "code",
      "metadata": {
        "id": "vUiigY3m1nxb",
        "colab": {
          "base_uri": "https://localhost:8080/",
          "height": 35
        },
        "outputId": "cdaa2fdc-3d4d-40ac-c06a-4f4c0b3f93a4"
      },
      "source": [
        "def check(a,b,c):\n",
        "  if a in range(b,c):\n",
        "    return 'Yes,the number exists in the given range'\n",
        "  else:\n",
        "    return \"No,the given number doesn't exist in the given range\"\n",
        "\n",
        "check(10,11,15)\n",
        "check(50,50,500)"
      ],
      "execution_count": null,
      "outputs": [
        {
          "output_type": "execute_result",
          "data": {
            "application/vnd.google.colaboratory.intrinsic": {
              "type": "string"
            },
            "text/plain": [
              "'Yes,the number exists in the given range'"
            ]
          },
          "metadata": {
            "tags": []
          },
          "execution_count": 16
        }
      ]
    },
    {
      "cell_type": "markdown",
      "metadata": {
        "id": "Uez01em82yiE"
      },
      "source": [
        "To print even numbers from the list"
      ]
    },
    {
      "cell_type": "code",
      "metadata": {
        "id": "EXS-4yht23TV",
        "colab": {
          "base_uri": "https://localhost:8080/",
          "height": 85
        },
        "outputId": "a4ce9739-215f-4253-bc4e-b07424fc723f"
      },
      "source": [
        "def even(num):\n",
        "  for i in num:\n",
        "    if i%2==0:\n",
        "      print(i) #if we write return ,the o/p gives only 2\n",
        "#but if we write print, the o/p gives all even numbers in a list\n",
        "\n",
        "even((0,1,2,3,4,5,6,7))"
      ],
      "execution_count": null,
      "outputs": [
        {
          "output_type": "stream",
          "text": [
            "0\n",
            "2\n",
            "4\n",
            "6\n"
          ],
          "name": "stdout"
        }
      ]
    },
    {
      "cell_type": "markdown",
      "metadata": {
        "id": "m72_u-ud64ra"
      },
      "source": [
        "To check if a string is palindrome"
      ]
    },
    {
      "cell_type": "code",
      "metadata": {
        "id": "BQGsiCH469as",
        "colab": {
          "base_uri": "https://localhost:8080/",
          "height": 35
        },
        "outputId": "c19cff3b-7758-4470-f784-f7e8ad4dad98"
      },
      "source": [
        "def palin(a):\n",
        "  if a == a[::-1]:\n",
        "    return \"Yes ,the string is a palindrome\"\n",
        "  else:\n",
        "    return \"The given string is not a palindrome\"\n",
        "\n",
        "palin(\"excuse\")"
      ],
      "execution_count": null,
      "outputs": [
        {
          "output_type": "execute_result",
          "data": {
            "application/vnd.google.colaboratory.intrinsic": {
              "type": "string"
            },
            "text/plain": [
              "'The given string is not a palindrome'"
            ]
          },
          "metadata": {
            "tags": []
          },
          "execution_count": 25
        }
      ]
    },
    {
      "cell_type": "markdown",
      "metadata": {
        "id": "yThr0y2FoMb1"
      },
      "source": [
        "Count the upper and lowercase letters in a string"
      ]
    },
    {
      "cell_type": "code",
      "metadata": {
        "id": "u3eog_1coScM",
        "colab": {
          "base_uri": "https://localhost:8080/",
          "height": 68
        },
        "outputId": "0157c13a-86f1-45a8-d623-3a587cf157dc"
      },
      "source": [
        "def count(a):\n",
        "  upper = 0\n",
        "  lower = 0\n",
        "  spaces = 0\n",
        "  for i in a:\n",
        "     if i.isupper():\n",
        "        upper += 1\n",
        "     elif i.islower():\n",
        "       lower += 1\n",
        "     else:\n",
        "       spaces += 1\n",
        "  print(\"Upper characters : {}\".format(upper))\n",
        "  print(\"Lower characters : {}\".format(lower))\n",
        "  print(\"Other characters : {}\".format(spaces))\n",
        "\n",
        "count(\"#Sparsha Abinethri Koti\")\n",
        "\n"
      ],
      "execution_count": null,
      "outputs": [
        {
          "output_type": "stream",
          "text": [
            "Upper characters : 3\n",
            "Lower characters : 17\n",
            "Other characters : 3\n"
          ],
          "name": "stdout"
        }
      ]
    },
    {
      "cell_type": "markdown",
      "metadata": {
        "id": "pqF3Dc84p7AS"
      },
      "source": [
        "List of squares of numbers between 1 and 30"
      ]
    },
    {
      "cell_type": "code",
      "metadata": {
        "id": "d-uNd9WTqAfl",
        "colab": {
          "base_uri": "https://localhost:8080/",
          "height": 54
        },
        "outputId": "38ae3a6e-d52b-41a0-967e-0f0a20f75c25"
      },
      "source": [
        "def squares(a,b):\n",
        "  square = []\n",
        "  for i in range(a,b+1):\n",
        "    c = i**2\n",
        "    square.append(c)\n",
        "  print(square) #if we write return, vertical ga print ithey and if we write print, horizontal ga print ithey\n",
        "\n",
        "squares(1,30)"
      ],
      "execution_count": null,
      "outputs": [
        {
          "output_type": "stream",
          "text": [
            "[1, 4, 9, 16, 25, 36, 49, 64, 81, 100, 121, 144, 169, 196, 225, 256, 289, 324, 361, 400, 441, 484, 529, 576, 625, 676, 729, 784, 841, 900]\n"
          ],
          "name": "stdout"
        }
      ]
    },
    {
      "cell_type": "markdown",
      "metadata": {
        "id": "V5JrcLe9sdRZ"
      },
      "source": [
        "Check if a number is prime or not"
      ]
    },
    {
      "cell_type": "code",
      "metadata": {
        "id": "770Enbs9sh9s",
        "colab": {
          "base_uri": "https://localhost:8080/",
          "height": 35
        },
        "outputId": "317cb57e-3740-40c4-b7c0-106d39396318"
      },
      "source": [
        "def isprime(a):\n",
        "  for i in range(2,a):\n",
        "    if a%i == 0:\n",
        "       return \"No, the given number is not a prime number\"\n",
        "       break\n",
        "       \n",
        "    else:\n",
        "      return \"Yes, the given number is a prime number\"\n",
        "\n",
        "isprime(6)"
      ],
      "execution_count": null,
      "outputs": [
        {
          "output_type": "execute_result",
          "data": {
            "application/vnd.google.colaboratory.intrinsic+json": {
              "type": "string"
            },
            "text/plain": [
              "'No, the given number is not a prime number'"
            ]
          },
          "metadata": {
            "tags": []
          },
          "execution_count": 21
        }
      ]
    },
    {
      "cell_type": "markdown",
      "metadata": {
        "id": "WnvFpW5U4Iux"
      },
      "source": [
        "Check if the number is perfect number or not"
      ]
    },
    {
      "cell_type": "code",
      "metadata": {
        "id": "8y1BimTv4Nhm",
        "colab": {
          "base_uri": "https://localhost:8080/",
          "height": 35
        },
        "outputId": "29080330-4b2e-4e6d-e375-ea781663e1da"
      },
      "source": [
        "def number(a):\n",
        "  sum = 0\n",
        "  for i in range(1,a):\n",
        "    if a%i == 0:\n",
        "      sum += i\n",
        "  if a == sum or ((a+sum)/2)==a:\n",
        "    return \"The given number is a perfect number\"\n",
        "  else:\n",
        "    return \"The given number is not a perfect number\"\n",
        "\n",
        "number(496) "
      ],
      "execution_count": null,
      "outputs": [
        {
          "output_type": "execute_result",
          "data": {
            "application/vnd.google.colaboratory.intrinsic+json": {
              "type": "string"
            },
            "text/plain": [
              "'The given number is a perfect number'"
            ]
          },
          "metadata": {
            "tags": []
          },
          "execution_count": 29
        }
      ]
    }
  ]
}
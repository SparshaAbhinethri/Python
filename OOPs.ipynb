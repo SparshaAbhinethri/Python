{
  "nbformat": 4,
  "nbformat_minor": 0,
  "metadata": {
    "colab": {
      "name": "OOPs.ipynb",
      "provenance": [],
      "authorship_tag": "ABX9TyMfYpsou523uyYrVSLQCemI",
      "include_colab_link": true
    },
    "kernelspec": {
      "name": "python3",
      "display_name": "Python 3"
    }
  },
  "cells": [
    {
      "cell_type": "markdown",
      "metadata": {
        "id": "view-in-github",
        "colab_type": "text"
      },
      "source": [
        "<a href=\"https://colab.research.google.com/github/SparshaAbhinethri/Python/blob/main/OOPs.ipynb\" target=\"_parent\"><img src=\"https://colab.research.google.com/assets/colab-badge.svg\" alt=\"Open In Colab\"/></a>"
      ]
    },
    {
      "cell_type": "markdown",
      "metadata": {
        "id": "yKrBavpedkKC"
      },
      "source": [
        "Creating class and object"
      ]
    },
    {
      "cell_type": "code",
      "metadata": {
        "id": "3ZY5dxkIdV1X",
        "colab": {
          "base_uri": "https://localhost:8080/",
          "height": 34
        },
        "outputId": "129fb530-aaec-4004-cff2-a0156765ba69"
      },
      "source": [
        "class Person: #creating class\n",
        "  pass\n",
        "\n",
        "p = Person() #creatiing object\n",
        "print(p)\n",
        "\n",
        "#o/p will given as the class and object is created with a name \"Person\""
      ],
      "execution_count": null,
      "outputs": [
        {
          "output_type": "stream",
          "text": [
            "<__main__.Person object at 0x7fbeab5a8c88>\n"
          ],
          "name": "stdout"
        }
      ]
    },
    {
      "cell_type": "markdown",
      "metadata": {
        "id": "DEGlyE3fgJQU"
      },
      "source": [
        "Creating Method 1"
      ]
    },
    {
      "cell_type": "code",
      "metadata": {
        "id": "hOHIBETwehB5",
        "colab": {
          "base_uri": "https://localhost:8080/",
          "height": 34
        },
        "outputId": "4d7d1a1e-8635-4571-8506-6b165f8b713d"
      },
      "source": [
        "class Person: #creating class\n",
        "  def display(self): #creating method\n",
        "    print(\"Hello\")\n",
        "\n",
        "p = Person() #creatiing object\n",
        "p.display()"
      ],
      "execution_count": null,
      "outputs": [
        {
          "output_type": "stream",
          "text": [
            "Hello\n"
          ],
          "name": "stdout"
        }
      ]
    },
    {
      "cell_type": "markdown",
      "metadata": {
        "id": "dcdVaz57gmHT"
      },
      "source": [
        "Creating Method 2 - Initialisation method"
      ]
    },
    {
      "cell_type": "code",
      "metadata": {
        "id": "G2F-hYzSguD0",
        "colab": {
          "base_uri": "https://localhost:8080/",
          "height": 51
        },
        "outputId": "1f5f6447-bdd5-4d42-a345-2a4e50490847"
      },
      "source": [
        "class Person: #creating class\n",
        "  def __init__(self,name): #initialisation method\n",
        "    self.name = name\n",
        "  def display(self): #creating method\n",
        "    print(\"Hello,\",self.name)\n",
        "\n",
        "p = Person(\"Sparsha Abinethri\") #creatiing object\n",
        "p.display()\n",
        "Person(\"Python\").display()"
      ],
      "execution_count": null,
      "outputs": [
        {
          "output_type": "stream",
          "text": [
            "Hello, Sparsha Abinethri\n",
            "Hello, Python\n"
          ],
          "name": "stdout"
        }
      ]
    },
    {
      "cell_type": "markdown",
      "metadata": {
        "id": "qpOrORaHlAOK"
      },
      "source": [
        "Init 2 - Local & Instance Variables"
      ]
    },
    {
      "cell_type": "code",
      "metadata": {
        "id": "n656Q3fnj-2l",
        "colab": {
          "base_uri": "https://localhost:8080/",
          "height": 51
        },
        "outputId": "19d3849a-2f9d-486b-b092-4471af0d2f8f"
      },
      "source": [
        "class Person: #creating class\n",
        "  def __init__(self,name): #initialisation method\n",
        "    self.name = name\n",
        "    name = \"Srilatha\"  #local vriables\n",
        "    print(\"Hi,\",name)\n",
        "  def display(self): #creating method\n",
        "    print(\"Hello,\",self.name)\n",
        "\n",
        "p = Person(\"Sparsha Abinethri\") #creatiing object (instance variables)\n",
        "p.display()"
      ],
      "execution_count": null,
      "outputs": [
        {
          "output_type": "stream",
          "text": [
            "Hi, Srilatha\n",
            "Hello, Sparsha Abinethri\n"
          ],
          "name": "stdout"
        }
      ]
    },
    {
      "cell_type": "markdown",
      "metadata": {
        "id": "S5QqGBNJij72"
      },
      "source": [
        "Fields - Student Details of Same College"
      ]
    },
    {
      "cell_type": "code",
      "metadata": {
        "id": "wT9euV28imME",
        "colab": {
          "base_uri": "https://localhost:8080/",
          "height": 272
        },
        "outputId": "8f25662b-1244-4569-a661-d43fa69378d3"
      },
      "source": [
        "class Student:\n",
        "  college = \"BVRITH\" #class variable (Field type 1)\n",
        "\n",
        "  def __init__(self,name,rollno):\n",
        "    self.name = name        #instance variables (Field type 2)\n",
        "    self.rollno = rollno\n",
        "\n",
        "  def display(self):\n",
        "    print(\"Name :\",self.name)\n",
        "    print(\"Roll Number :\",self.rollno)\n",
        "    print(\"College :\",Student.college) #printing class variable\n",
        "    print(\"\\n\")\n",
        "\n",
        "stu1 = Student(\"Sparsha\",\"18458\")\n",
        "stu1.display()\n",
        "\n",
        "stu2 = Student(\"Medhasree\",\"18456\")\n",
        "stu2.display()\n",
        "\n",
        "stu3 = Student(\"Harshitha\",\"18445\")\n",
        "stu3.display()"
      ],
      "execution_count": null,
      "outputs": [
        {
          "output_type": "stream",
          "text": [
            "Name : Sparsha\n",
            "Roll Number : 18458\n",
            "College : BVRITH\n",
            "\n",
            "\n",
            "Name : Medhasree\n",
            "Roll Number : 18456\n",
            "College : BVRITH\n",
            "\n",
            "\n",
            "Name : Harshitha\n",
            "Roll Number : 18445\n",
            "College : BVRITH\n",
            "\n",
            "\n"
          ],
          "name": "stdout"
        }
      ]
    },
    {
      "cell_type": "markdown",
      "metadata": {
        "id": "2TLdaJQhnN4T"
      },
      "source": [
        "Birds available in a Zoo"
      ]
    },
    {
      "cell_type": "code",
      "metadata": {
        "id": "H_IiaqAYnh6m",
        "colab": {
          "base_uri": "https://localhost:8080/",
          "height": 578
        },
        "outputId": "7a383a68-9af1-47c8-b55a-805a092ecb4c"
      },
      "source": [
        "class birds:\n",
        "  species = \"Bird\"\n",
        "  print(\"Birds Available in Sun Zoo are as follow\")\n",
        "  print(\"\\n\")\n",
        "\n",
        "  def __init__ (a,type1,age,color):\n",
        "    a.type1 = type1\n",
        "    a.age = age\n",
        "    a.color = color\n",
        "  \n",
        "  def display(a):\n",
        "    print(\"Class :\",a.type1)\n",
        "    print(\"Age :\",a.age)\n",
        "    print(\"Color :\",a.color)\n",
        "    print(\"Species :\",birds.species)\n",
        "    print(\"\\n\")\n",
        "\n",
        "b1 = birds(\"Parrot\",\"13\",\"Yellowish Green\")\n",
        "b1.display()\n",
        "\n",
        "b2 = birds(\"Peacock\",\"18\",\"Bluish Green\")\n",
        "b2.display()\n",
        "\n",
        "b3 = birds(\"Vulture\",\"45\",\"Brown\")\n",
        "b3.display()\n",
        "\n",
        "b4 = birds(\"Owl\",\"25\",\"Brownish White\")\n",
        "b4.display()\n",
        "\n",
        "b5 = birds(\"Porccupine\",\"6\",\"Magenta\")\n",
        "b5.display()\n"
      ],
      "execution_count": null,
      "outputs": [
        {
          "output_type": "stream",
          "text": [
            "Birds Available in Sun Zoo are as follow\n",
            "\n",
            "\n",
            "Class : Parrot\n",
            "Age : 13\n",
            "Color : Yellowish Green\n",
            "Species : Bird\n",
            "\n",
            "\n",
            "Class : Peacock\n",
            "Age : 18\n",
            "Color : Bluish Green\n",
            "Species : Bird\n",
            "\n",
            "\n",
            "Class : Vulture\n",
            "Age : 45\n",
            "Color : Brown\n",
            "Species : Bird\n",
            "\n",
            "\n",
            "Class : Owl\n",
            "Age : 25\n",
            "Color : Brownish White\n",
            "Species : Bird\n",
            "\n",
            "\n",
            "Class : Porccupine\n",
            "Age : 6\n",
            "Color : Magenta\n",
            "Species : Bird\n",
            "\n",
            "\n"
          ],
          "name": "stdout"
        }
      ]
    },
    {
      "cell_type": "markdown",
      "metadata": {
        "id": "grdPlmZLkTPw"
      },
      "source": [
        "Dog House"
      ]
    },
    {
      "cell_type": "code",
      "metadata": {
        "id": "d5_3sPm6kZQB",
        "colab": {
          "base_uri": "https://localhost:8080/",
          "height": 476
        },
        "outputId": "490ff797-823a-4cc1-e319-c0d1a05255a2"
      },
      "source": [
        "class dogs:\n",
        "   print(\"The Dog House consists of the following breeds with wide range of classes\")\n",
        "   print(\"\\n\")\n",
        "   \n",
        "   def __init__ (a,name,breed,age,color):\n",
        "     a.name = name\n",
        "     a.breeds = breed\n",
        "     a.age = age\n",
        "     a.color = color\n",
        "   \n",
        "   def show(a):\n",
        "     print(\"Name :\",a.name)\n",
        "     print(\"Breed :\",a.breeds)\n",
        "     print(\"Age :\",a.age)\n",
        "     print(\"Color :\",a.color)\n",
        "     print(\"\\n\")\n",
        "\n",
        "d1 = dogs(\"Tom\",\"Labrador\",\"5\",\"Creamish White\")\n",
        "d1.show()\n",
        "\n",
        "d2 = dogs(\"Leo\",\"Pomerian\",\"2\",\"Yellow\")\n",
        "d2.show()\n",
        "\n",
        "d3 = dogs(\"Lok\",\"Chow - Chow\",\"8\",\"Brown\")\n",
        "d3.show()\n",
        "\n",
        "d4 = dogs(\"Chinnu\",\"Pug\",\"18\",\"Black\")\n",
        "d4.show()\n"
      ],
      "execution_count": null,
      "outputs": [
        {
          "output_type": "stream",
          "text": [
            "The Dog House consists of the following breeds with wide range of classes\n",
            "\n",
            "\n",
            "Name : Tom\n",
            "Breed : Labrador\n",
            "Age : 5\n",
            "Color : Creamish White\n",
            "\n",
            "\n",
            "Name : Leo\n",
            "Breed : Pomerian\n",
            "Age : 2\n",
            "Color : Yellow\n",
            "\n",
            "\n",
            "Name : Lok\n",
            "Breed : Chow - Chow\n",
            "Age : 8\n",
            "Color : Brown\n",
            "\n",
            "\n",
            "Name : Chinnu\n",
            "Breed : Pug\n",
            "Age : 18\n",
            "Color : Black\n",
            "\n",
            "\n"
          ],
          "name": "stdout"
        }
      ]
    },
    {
      "cell_type": "markdown",
      "metadata": {
        "id": "SnponEKC3N49"
      },
      "source": [
        "Inheritance 1"
      ]
    },
    {
      "cell_type": "code",
      "metadata": {
        "id": "J9HH06kU5sl2",
        "colab": {
          "base_uri": "https://localhost:8080/",
          "height": 102
        },
        "outputId": "349059e2-e456-4c85-e85c-6f7ab1f3862b"
      },
      "source": [
        "# Example 1\n",
        "class animal: #baseclass\n",
        "  def eating(self):\n",
        "    print(\"The dog eats the bone\")\n",
        "\n",
        "class dog(animal):  #derivedclass\n",
        "  def bark(self):\n",
        "    print(\"The dog barks\")\n",
        "    print(\"\\n\")\n",
        "\n",
        "d = dog()\n",
        "d.eating()\n",
        "d.bark()\n",
        "\n",
        "#Example 2 : Initialising in parent class and displaying in derived class\n",
        "\n",
        "class living:\n",
        "  def __init__(a,name):\n",
        "    a.name = name\n",
        "\n",
        "class person(living):\n",
        "  def show(a):\n",
        "    print(\"My name is \",a.name)\n",
        "\n",
        "p = person(\"Sparsha Abinethri\")\n",
        "p.show()\n",
        "\n"
      ],
      "execution_count": null,
      "outputs": [
        {
          "output_type": "stream",
          "text": [
            "The dog eats the bone\n",
            "The dog barks\n",
            "\n",
            "\n",
            "My name is  Sparsha Abinethri\n"
          ],
          "name": "stdout"
        }
      ]
    },
    {
      "cell_type": "markdown",
      "metadata": {
        "id": "k-mHtgeuMwEs"
      },
      "source": [
        "Multilevel inheritance\n"
      ]
    },
    {
      "cell_type": "code",
      "metadata": {
        "id": "78IMDISfMudX",
        "colab": {
          "base_uri": "https://localhost:8080/",
          "height": 68
        },
        "outputId": "7637fbf8-d7b9-4167-c7d8-1bc1a7b23102"
      },
      "source": [
        "class grandpa:  #baseclass\n",
        "  def house(self):\n",
        "    print(\"The house is made up of wooden hangings,doors\")\n",
        "\n",
        "class pappha(grandpa):  #derivedclass1\n",
        "   def house1(self):\n",
        "     print(\"The house is then modified with marble flooring\")\n",
        "\n",
        "class son(pappha): #derivedclass2\n",
        "  def house2(self):\n",
        "    print(\"The house is again modified with glass doors and shanliers on the top\")\n",
        "\n",
        "a = son()\n",
        "a.house()\n",
        "a.house1()\n",
        "a.house2()\n"
      ],
      "execution_count": null,
      "outputs": [
        {
          "output_type": "stream",
          "text": [
            "The house is made up of wooden hangings,doors\n",
            "The house is then modified with marble flooring\n",
            "The house is again modified with glass doors and shanliers on the top\n"
          ],
          "name": "stdout"
        }
      ]
    },
    {
      "cell_type": "markdown",
      "metadata": {
        "id": "yJ4t0OHfIVZu"
      },
      "source": [
        "Multiple Inheritance : 2 classes can be extended to 1 more class"
      ]
    },
    {
      "cell_type": "code",
      "metadata": {
        "id": "HAekYhuRIaCq",
        "colab": {
          "base_uri": "https://localhost:8080/",
          "height": 68
        },
        "outputId": "40899d7e-0638-4f77-bfaa-a0b701e5936e"
      },
      "source": [
        "class father:\n",
        "  def name(self):\n",
        "    print(\"Father's name : Laxman Koti\")\n",
        "\n",
        "class mother:\n",
        "  def name1(self):\n",
        "    print(\"Mother's name : Srilatha Koti\")\n",
        "\n",
        "class child(father,mother):\n",
        "  def name2(self):\n",
        "    print(\"Children : Sparsha Abinethri Koti, Lokyaan Abinetre Koti\")\n",
        "\n",
        "a = child()\n",
        "a.name()\n",
        "a.name1()\n",
        "a.name2()\n"
      ],
      "execution_count": null,
      "outputs": [
        {
          "output_type": "stream",
          "text": [
            "Father's name : Laxman Koti\n",
            "Mother's name : Srilatha Koti\n",
            "Children : Sparsha Abinethri Koti, Lokyaan Abinetre Koti\n"
          ],
          "name": "stdout"
        }
      ]
    },
    {
      "cell_type": "markdown",
      "metadata": {
        "id": "jUOAB1cWcsYJ"
      },
      "source": [
        "OverRiding : ability to change the implementation of a method"
      ]
    },
    {
      "cell_type": "code",
      "metadata": {
        "id": "-oN9txILcy3V",
        "colab": {
          "base_uri": "https://localhost:8080/",
          "height": 102
        },
        "outputId": "ec2edd53-e20f-4ef0-c894-00df2b8f1509"
      },
      "source": [
        "# before OverRiding\n",
        "\n",
        "class Parent:\n",
        "  def show(self):\n",
        "    print(\"How are you\")\n",
        "    print(\"\\n\")\n",
        "\n",
        "class child(Parent):\n",
        "  def shw(self):\n",
        "    print(\"Hello\")\n",
        "    \n",
        "a = child()\n",
        "a.shw()\n",
        "a.show()\n",
        "\n",
        "#after OverRiding \n",
        "# though we have given same func name to both Parent1 and Child1 classes,\n",
        "#the 2nd class's func statement will be printed\n",
        "\n",
        "\n",
        "class Parent1:\n",
        "  def show1(self):\n",
        "    print(\"How are you\")\n",
        "class child1(Parent):\n",
        "  def show1(self):\n",
        "    print(\"Hello ! How are you ?\")\n",
        "\n",
        "a = child1()\n",
        "a.show1()\n",
        "\n"
      ],
      "execution_count": null,
      "outputs": [
        {
          "output_type": "stream",
          "text": [
            "Hello\n",
            "How are you\n",
            "\n",
            "\n",
            "Hello ! How are you ?\n"
          ],
          "name": "stdout"
        }
      ]
    }
  ]
}
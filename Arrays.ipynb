{
  "nbformat": 4,
  "nbformat_minor": 0,
  "metadata": {
    "colab": {
      "name": "Arrays.ipynb",
      "provenance": [],
      "authorship_tag": "ABX9TyPLwWmj7Ftv67wza8di6eM9",
      "include_colab_link": true
    },
    "kernelspec": {
      "name": "python3",
      "display_name": "Python 3"
    }
  },
  "cells": [
    {
      "cell_type": "markdown",
      "metadata": {
        "id": "view-in-github",
        "colab_type": "text"
      },
      "source": [
        "<a href=\"https://colab.research.google.com/github/SparshaAbhinethri/Python/blob/main/Arrays.ipynb\" target=\"_parent\"><img src=\"https://colab.research.google.com/assets/colab-badge.svg\" alt=\"Open In Colab\"/></a>"
      ]
    },
    {
      "cell_type": "markdown",
      "metadata": {
        "id": "KE0Fh0vxl9CV"
      },
      "source": [
        "Sum of Array Elements"
      ]
    },
    {
      "cell_type": "code",
      "metadata": {
        "id": "jHqDfB8Kkuk_",
        "colab": {
          "base_uri": "https://localhost:8080/",
          "height": 145
        },
        "outputId": "df4939de-fded-4af9-e1f3-10afcbb1dbff"
      },
      "source": [
        "n = int(input())\n",
        "arr = []\n",
        "for i in range(0,n):\n",
        "  c = int(input())\n",
        "  arr.append(c)\n",
        "Sum_of_array = sum(arr)\n",
        "print(Sum_of_array)"
      ],
      "execution_count": null,
      "outputs": [
        {
          "output_type": "stream",
          "text": [
            "5\n",
            "1\n",
            "2\n",
            "3\n",
            "4\n",
            "5\n",
            "15\n"
          ],
          "name": "stdout"
        }
      ]
    },
    {
      "cell_type": "markdown",
      "metadata": {
        "id": "aED9qRIumCWO"
      },
      "source": [
        "Largest element in an array"
      ]
    },
    {
      "cell_type": "code",
      "metadata": {
        "id": "sY9AHpowmU0z",
        "colab": {
          "base_uri": "https://localhost:8080/",
          "height": 254
        },
        "outputId": "9fe420cf-e6f2-4db8-9d9f-9f5b44d15013"
      },
      "source": [
        "a = int(input(\"Enter the length of an array : \"))\n",
        "array = []\n",
        "print(\"Enter the array elements\")\n",
        "for i in range(0,a):\n",
        "  n = int(input())\n",
        "  array.append(n)\n",
        "max = array[0]\n",
        "for j in range(0,a):\n",
        "  if array[j] > max:\n",
        "    max = array[j]\n",
        "print(\"The largest element in an array is : {0}\".format(max))"
      ],
      "execution_count": null,
      "outputs": [
        {
          "output_type": "stream",
          "text": [
            "Enter the length of an array : 10\n",
            "Enter the array elements\n",
            "9\n",
            "6\n",
            "4\n",
            "8\n",
            "6\n",
            "1\n",
            "4\n",
            "3\n",
            "9\n",
            "0\n",
            "The largest element in an array is : 9\n"
          ],
          "name": "stdout"
        }
      ]
    },
    {
      "cell_type": "markdown",
      "metadata": {
        "id": "0DBxAk3rszwV"
      },
      "source": [
        "Rotation of array elements"
      ]
    },
    {
      "cell_type": "code",
      "metadata": {
        "id": "XmJlFZers4IS",
        "colab": {
          "base_uri": "https://localhost:8080/",
          "height": 102
        },
        "outputId": "af0dd32c-15f5-43ae-cfdd-d72f95753d16"
      },
      "source": [
        "d = 5\n",
        "arr = [1,2,3,4,5]\n",
        "print(arr)\n",
        "a = int(input(\"Enter the number of elements that has to be rotated : \"))\n",
        "lst1 = []\n",
        "lst2 = []\n",
        "for j in range(0,a):\n",
        "  lst1.append(j)\n",
        "print(lst1)\n",
        "for k in range(a,d+1):\n",
        "  lst2.append(k)\n",
        "print(lst2)\n",
        "lst3 = lst2.append(lst1)\n",
        "print(lst3)"
      ],
      "execution_count": null,
      "outputs": [
        {
          "output_type": "stream",
          "text": [
            "[1, 2, 3, 4, 5]\n",
            "Enter the number of elements that has to be rotated : 2\n",
            "[0, 1]\n",
            "[2, 3, 4, 5]\n",
            "None\n"
          ],
          "name": "stdout"
        }
      ]
    },
    {
      "cell_type": "markdown",
      "metadata": {
        "id": "dB56l9hvyBQi"
      },
      "source": [
        "Remainder of the array elements multipied with a number"
      ]
    },
    {
      "cell_type": "code",
      "metadata": {
        "id": "yinBtUBVyJyO",
        "colab": {
          "base_uri": "https://localhost:8080/",
          "height": 72
        },
        "outputId": "e2d4caf7-ecd9-4224-9ac7-5ac40db8f652"
      },
      "source": [
        "arr = [2,5,3,9,4,6,12]\n",
        "mul = 1\n",
        "n = int(input())\n",
        "for i in range(0,len(arr)):\n",
        "  mul = mul * arr[i]\n",
        "c = mul % n\n",
        "\n",
        "print(\"The product of elements of an array is : {0}\".format(mul))\n",
        "print(\"The remainder when {} is divided by {} is {}\".format(mul,n,c))"
      ],
      "execution_count": null,
      "outputs": [
        {
          "output_type": "stream",
          "text": [
            "4\n",
            "The product of elements of an array is : 77760\n",
            "The remainder when 77760 is divided by 4 is 0\n"
          ],
          "name": "stdout"
        }
      ]
    },
    {
      "cell_type": "markdown",
      "metadata": {
        "id": "K-VAI6GQ1kl1"
      },
      "source": [
        "Check if an array is monotonically increasing or decreasing"
      ]
    },
    {
      "cell_type": "code",
      "metadata": {
        "id": "QqMILCtS1smb",
        "colab": {
          "base_uri": "https://localhost:8080/",
          "height": 108
        },
        "outputId": "4c8383bd-5c4b-433e-d9cc-fcbb7eb66f65"
      },
      "source": [
        "a = [6,5,4,3]\n",
        "diff = arr[1] - arr[0]\n",
        "diff1 = arr[0] - arr[1]\n",
        "for i in range(0,len(arr)-2):\n",
        "  if (arr[i+1]-arr[i]== diff or diff1):\n",
        "      \n",
        "      print(\"Monotonic\")\n",
        "      continue\n",
        "\n",
        "  else:\n",
        "    print(\"Non monotonic\")\n",
        "    break\n",
        "    \n",
        "\n"
      ],
      "execution_count": null,
      "outputs": [
        {
          "output_type": "stream",
          "text": [
            "Monotonic\n",
            "Monotonic\n",
            "Monotonic\n",
            "Monotonic\n",
            "Monotonic\n"
          ],
          "name": "stdout"
        }
      ]
    }
  ]
}
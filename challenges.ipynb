{
  "nbformat": 4,
  "nbformat_minor": 0,
  "metadata": {
    "colab": {
      "name": "challenges.ipynb",
      "provenance": [],
      "authorship_tag": "ABX9TyOJAdewKWBwdBr5V6NOn6lc",
      "include_colab_link": true
    },
    "kernelspec": {
      "name": "python3",
      "display_name": "Python 3"
    }
  },
  "cells": [
    {
      "cell_type": "markdown",
      "metadata": {
        "id": "view-in-github",
        "colab_type": "text"
      },
      "source": [
        "<a href=\"https://colab.research.google.com/github/SparshaAbhinethri/Python/blob/main/challenges.ipynb\" target=\"_parent\"><img src=\"https://colab.research.google.com/assets/colab-badge.svg\" alt=\"Open In Colab\"/></a>"
      ]
    },
    {
      "cell_type": "markdown",
      "metadata": {
        "id": "ov0-5AR6E3G4"
      },
      "source": [
        "Check if a given num is power of 2"
      ]
    },
    {
      "cell_type": "code",
      "metadata": {
        "id": "Pt6Evt1_Ar1I",
        "colab": {
          "base_uri": "https://localhost:8080/",
          "height": 34
        },
        "outputId": "dd7c5071-f9cf-45f6-882d-06a05b5df8bc"
      },
      "source": [
        "def num(a):\n",
        "  if a < 2:\n",
        "    return False\n",
        "  while(a!=1):\n",
        "    if a%2 != 0:\n",
        "      return False\n",
        "    a = a/2\n",
        "\n",
        "  return True\n",
        "  \n",
        "num(8)"
      ],
      "execution_count": null,
      "outputs": [
        {
          "output_type": "execute_result",
          "data": {
            "text/plain": [
              "True"
            ]
          },
          "metadata": {
            "tags": []
          },
          "execution_count": 36
        }
      ]
    },
    {
      "cell_type": "markdown",
      "metadata": {
        "id": "CnfEyFSoGJrY"
      },
      "source": [
        "Check if a given num is a power of 3"
      ]
    },
    {
      "cell_type": "code",
      "metadata": {
        "id": "dZ3b8JKbFCLi",
        "colab": {
          "base_uri": "https://localhost:8080/",
          "height": 34
        },
        "outputId": "c859e834-2068-48f5-daa5-8fe94e1f8cd9"
      },
      "source": [
        "def num(a):\n",
        "  if a < 3:\n",
        "    return False\n",
        "  while(a!=1):\n",
        "    if a%3 != 0:\n",
        "       return False\n",
        "    a = a/3\n",
        "\n",
        "  return True\n",
        " \n",
        "  \n",
        "num(81)"
      ],
      "execution_count": null,
      "outputs": [
        {
          "output_type": "execute_result",
          "data": {
            "text/plain": [
              "True"
            ]
          },
          "metadata": {
            "tags": []
          },
          "execution_count": 37
        }
      ]
    },
    {
      "cell_type": "markdown",
      "metadata": {
        "id": "mM1j3vgxLKsf"
      },
      "source": [
        "Return square root of a given number "
      ]
    },
    {
      "cell_type": "code",
      "metadata": {
        "id": "UmSxhFWKGY7P",
        "colab": {
          "base_uri": "https://localhost:8080/",
          "height": 34
        },
        "outputId": "000b6d8a-74f6-40d0-f0bb-87fe7f862d92"
      },
      "source": [
        "import math\n",
        "def number(a):\n",
        "  a = math.sqrt(a)\n",
        "  return a\n",
        "\n",
        "number(9)\n"
      ],
      "execution_count": null,
      "outputs": [
        {
          "output_type": "execute_result",
          "data": {
            "text/plain": [
              "3.0"
            ]
          },
          "metadata": {
            "tags": []
          },
          "execution_count": 46
        }
      ]
    },
    {
      "cell_type": "code",
      "metadata": {
        "id": "LOWuCBfeLSs6",
        "colab": {
          "base_uri": "https://localhost:8080/",
          "height": 34
        },
        "outputId": "c6c0080d-7120-4f25-8213-20b2a5fc834f"
      },
      "source": [
        "def miss(nums):\n",
        "  missing = []\n",
        "  for i in range(0,len(nums)):\n",
        "    if nums[i] not in range(0,10):\n",
        "       missing.append(i)\n",
        "    return missing\n",
        "miss((1,4,5,8,9))"
      ],
      "execution_count": null,
      "outputs": [
        {
          "output_type": "execute_result",
          "data": {
            "text/plain": [
              "[]"
            ]
          },
          "metadata": {
            "tags": []
          },
          "execution_count": 56
        }
      ]
    },
    {
      "cell_type": "markdown",
      "metadata": {
        "id": "0GBiOeub5q2C"
      },
      "source": [
        "Reverse the digits of a number"
      ]
    },
    {
      "cell_type": "code",
      "metadata": {
        "id": "OskJ_PoROaDI",
        "colab": {
          "base_uri": "https://localhost:8080/",
          "height": 35
        },
        "outputId": "7bbd2fe5-be63-4e34-9c37-4ede8000671e"
      },
      "source": [
        "def a(b):\n",
        "  b = b[::-1]\n",
        "  return b\n",
        "a(\"436\")"
      ],
      "execution_count": null,
      "outputs": [
        {
          "output_type": "execute_result",
          "data": {
            "application/vnd.google.colaboratory.intrinsic+json": {
              "type": "string"
            },
            "text/plain": [
              "'634'"
            ]
          },
          "metadata": {
            "tags": []
          },
          "execution_count": 59
        }
      ]
    },
    {
      "cell_type": "markdown",
      "metadata": {
        "id": "JgVMgWadMDlx"
      },
      "source": [
        "n/2 and 3n+1 series"
      ]
    },
    {
      "cell_type": "code",
      "metadata": {
        "id": "0JKugdTIMJrM",
        "colab": {
          "base_uri": "https://localhost:8080/",
          "height": 34
        },
        "outputId": "c6813c30-0185-4550-e704-5a24718325c3"
      },
      "source": [
        "def series(n):\n",
        "  a = []\n",
        "  if n < 1:\n",
        "    return null\n",
        "  a.append(n)\n",
        "  while n > 1:\n",
        "    if n % 2==0:\n",
        "      n = n/2\n",
        "    else:\n",
        "      n = 3*n + 1\n",
        "    a.append(n)     #kindha pedthe automatic ga n append ipotundhi\n",
        "  return a\n",
        "\n",
        "print(series(15))"
      ],
      "execution_count": null,
      "outputs": [
        {
          "output_type": "stream",
          "text": [
            "[15, 46, 23.0, 70.0, 35.0, 106.0, 53.0, 160.0, 80.0, 40.0, 20.0, 10.0, 5.0, 16.0, 8.0, 4.0, 2.0, 1.0]\n"
          ],
          "name": "stdout"
        }
      ]
    },
    {
      "cell_type": "markdown",
      "metadata": {
        "id": "phOwEM5bPVl-"
      },
      "source": [
        "Check if a given number is an ugly number (ugly no is a number that has only prime factors as 2, 3, 5)"
      ]
    },
    {
      "cell_type": "code",
      "metadata": {
        "id": "gbIiQXFPPjeZ",
        "colab": {
          "base_uri": "https://localhost:8080/",
          "height": 68
        },
        "outputId": "82d057b2-e0de-47a5-ce3d-4e7dfce0ad89"
      },
      "source": [
        "def ugly(num):\n",
        "  lst = []\n",
        "  primelst = []\n",
        "  for i in range(2,num):\n",
        "    if num % i==0:\n",
        "      lst.append(i)\n",
        "  print(\"The list of factors : {} \".format(lst))\n",
        "\n",
        "  for i in lst:\n",
        "    for j in range(2,i):\n",
        "       if i%j == 0:\n",
        "          break\n",
        "    else:\n",
        "        primelst.append(i)\n",
        "  print(\"The list of primefactors : {}\".format(primelst))\n",
        "  \n",
        "  if primelst == [2,3,5]:\n",
        "    return True\n",
        "  else:\n",
        "    return False\n",
        "\n",
        "  \n",
        "\n",
        "ugly(30)\n",
        "  "
      ],
      "execution_count": null,
      "outputs": [
        {
          "output_type": "stream",
          "text": [
            "The list of factors : [2, 3, 5, 6, 10, 15] \n",
            "The list of primefactors : [2, 3, 5]\n"
          ],
          "name": "stdout"
        },
        {
          "output_type": "execute_result",
          "data": {
            "text/plain": [
              "True"
            ]
          },
          "metadata": {
            "tags": []
          },
          "execution_count": 29
        }
      ]
    },
    {
      "cell_type": "markdown",
      "metadata": {
        "id": "d_v0z7QpAeoU"
      },
      "source": [
        "Check if 2 strings are anagram pairs"
      ]
    },
    {
      "cell_type": "code",
      "metadata": {
        "id": "4DnTw7UDPg9Q",
        "colab": {
          "base_uri": "https://localhost:8080/",
          "height": 102
        },
        "outputId": "c588488c-164f-42f7-8ead-db81f439df9e"
      },
      "source": [
        "a = input()\n",
        "b = input()\n",
        "lst1 = []\n",
        "lst2 = []\n",
        "for i in range(0,len(a)):\n",
        "  lst1.append(a[i])\n",
        "for j in range(0,len(b)):\n",
        "  lst2.append(b[j])\n",
        "lst1.sort()   #sort function has to be written like this only, do not assin it to anything\n",
        "lst2.sort()\n",
        "print(lst1)\n",
        "print(lst2)\n",
        "if lst1==lst2:\n",
        "  print(\"The 2 strings are anagram pairs\")\n",
        "else:\n",
        "  print(\"The 2 strings are not anagram pairs\")"
      ],
      "execution_count": null,
      "outputs": [
        {
          "output_type": "stream",
          "text": [
            "anaram\n",
            "nararam\n",
            "['a', 'a', 'a', 'm', 'n', 'r']\n",
            "['a', 'a', 'a', 'm', 'n', 'r', 'r']\n",
            "The 2 strings are not anagram pairs\n"
          ],
          "name": "stdout"
        }
      ]
    },
    {
      "cell_type": "markdown",
      "metadata": {
        "id": "vzuX8tm7CBxx"
      },
      "source": [
        "Push all zeroes in a list to the end"
      ]
    },
    {
      "cell_type": "code",
      "metadata": {
        "id": "VLHC3-4DCHOd",
        "colab": {
          "base_uri": "https://localhost:8080/",
          "height": 51
        },
        "outputId": "1677a800-13eb-4485-bbea-9a17d2be010b"
      },
      "source": [
        "def zeroes(nums):\n",
        "  lst1 = []\n",
        "  lst2 = []\n",
        "  for i in nums:\n",
        "    if i==0:\n",
        "      lst1.append(i)\n",
        "    else:\n",
        "      lst2.append(i)\n",
        "  print(lst2 + lst1)\n",
        "  lst2.extend(lst1)   #extend is used to append 2 lists ... while extending, dont asign this function to something\n",
        "  #like c=lst2.append(lst1) >>> wrong\n",
        "  return lst2\n",
        "  \n",
        "zeroes((1,3,0,9,8,0,4,5))"
      ],
      "execution_count": null,
      "outputs": [
        {
          "output_type": "stream",
          "text": [
            "[1, 3, 9, 8, 4, 5, 0, 0]\n"
          ],
          "name": "stdout"
        },
        {
          "output_type": "execute_result",
          "data": {
            "text/plain": [
              "[1, 3, 9, 8, 4, 5, 0, 0]"
            ]
          },
          "metadata": {
            "tags": []
          },
          "execution_count": 23
        }
      ]
    },
    {
      "cell_type": "markdown",
      "metadata": {
        "id": "cw3ueLaVHZhR"
      },
      "source": [
        "count no. of letters in last word"
      ]
    },
    {
      "cell_type": "code",
      "metadata": {
        "id": "57rvRhDOHedO",
        "colab": {
          "base_uri": "https://localhost:8080/",
          "height": 34
        },
        "outputId": "dc42d9af-b9fc-4e1f-beb0-7c522704ea0d"
      },
      "source": [
        "def name(a):\n",
        "  b = a.split(\" \")\n",
        "  if len(a) == 0:\n",
        "    return 0\n",
        "  else:\n",
        "    return len(b[-1])\n",
        "name(\"Sparsha Abinethri\")"
      ],
      "execution_count": null,
      "outputs": [
        {
          "output_type": "execute_result",
          "data": {
            "text/plain": [
              "9"
            ]
          },
          "metadata": {
            "tags": []
          },
          "execution_count": 25
        }
      ]
    },
    {
      "cell_type": "markdown",
      "metadata": {
        "id": "-o-JlWJlJFEd"
      },
      "source": [
        "sum of 2 binary numbers\n"
      ]
    },
    {
      "cell_type": "code",
      "metadata": {
        "id": "yKkTz-x6JLN1",
        "colab": {
          "base_uri": "https://localhost:8080/",
          "height": 69
        },
        "outputId": "a4769ddd-4426-4c60-ada4-dd5b14681b45"
      },
      "source": [
        "def nums(a,b):\n",
        "  c = bin(a)\n",
        "  d = bin(b)\n",
        "  print(c)\n",
        "  print(d)\n",
        "  e = c +d\n",
        "  return e\n",
        "nums(11,1)"
      ],
      "execution_count": null,
      "outputs": [
        {
          "output_type": "stream",
          "text": [
            "0b1011\n",
            "0b1\n"
          ],
          "name": "stdout"
        },
        {
          "output_type": "execute_result",
          "data": {
            "application/vnd.google.colaboratory.intrinsic+json": {
              "type": "string"
            },
            "text/plain": [
              "'0b10110b1'"
            ]
          },
          "metadata": {
            "tags": []
          },
          "execution_count": 28
        }
      ]
    }
  ]
}
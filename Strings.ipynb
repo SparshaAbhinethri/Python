{
  "nbformat": 4,
  "nbformat_minor": 0,
  "metadata": {
    "colab": {
      "name": "Strings.ipynb",
      "provenance": [],
      "authorship_tag": "ABX9TyMqlSvssH1Pka1xU+BDysn+",
      "include_colab_link": true
    },
    "kernelspec": {
      "name": "python3",
      "display_name": "Python 3"
    }
  },
  "cells": [
    {
      "cell_type": "markdown",
      "metadata": {
        "id": "view-in-github",
        "colab_type": "text"
      },
      "source": [
        "<a href=\"https://colab.research.google.com/github/SparshaAbhinethri/Python/blob/main/Strings.ipynb\" target=\"_parent\"><img src=\"https://colab.research.google.com/assets/colab-badge.svg\" alt=\"Open In Colab\"/></a>"
      ]
    },
    {
      "cell_type": "markdown",
      "metadata": {
        "id": "7ucquGU1MRw0"
      },
      "source": [
        "Basics of Strings"
      ]
    },
    {
      "cell_type": "code",
      "metadata": {
        "id": "rscKUnHAK1_n",
        "colab": {
          "base_uri": "https://localhost:8080/",
          "height": 90
        },
        "outputId": "bd008659-350b-468f-943c-c551356a8c8e"
      },
      "source": [
        "a = 'Sparsha Abinethri'\n",
        "print(a) #single line\n",
        "b = '''My name is \n",
        "Sparsha Abinethri\n",
        "Koti''' #multiline\n",
        "print(b)"
      ],
      "execution_count": null,
      "outputs": [
        {
          "output_type": "stream",
          "text": [
            "Sparsha Abinethri\n",
            "My name is \n",
            "Sparsha Abinethri\n",
            "Koti\n"
          ],
          "name": "stdout"
        }
      ]
    },
    {
      "cell_type": "markdown",
      "metadata": {
        "id": "hlnJwOYuMXR7"
      },
      "source": [
        "Slicing of strings\n"
      ]
    },
    {
      "cell_type": "code",
      "metadata": {
        "id": "WRqSTjfsMa6i",
        "colab": {
          "base_uri": "https://localhost:8080/",
          "height": 108
        },
        "outputId": "786ed3be-e920-4f71-cdb9-abd6bfb260db"
      },
      "source": [
        "a = \"Laptop is so damn precious\"\n",
        "#slicing\n",
        "print(a[0])\n",
        "print(a[2:5])\n",
        "print(a[-1])\n",
        "print(a[-5:-2])\n",
        "print(a[1:15:2])"
      ],
      "execution_count": null,
      "outputs": [
        {
          "output_type": "stream",
          "text": [
            "L\n",
            "pto\n",
            "s\n",
            "cio\n",
            "atpi od\n"
          ],
          "name": "stdout"
        }
      ]
    },
    {
      "cell_type": "markdown",
      "metadata": {
        "id": "YWWbq_O4S9_d"
      },
      "source": [
        "Arithmetic operations on strings"
      ]
    },
    {
      "cell_type": "code",
      "metadata": {
        "id": "m2eKUmsATBqS",
        "colab": {
          "base_uri": "https://localhost:8080/",
          "height": 54
        },
        "outputId": "5fe35929-2b37-4d02-b908-df7892097ada"
      },
      "source": [
        "a = \"Sparsha\"\n",
        "b = \"Abinethri\"\n",
        "print(a+b)\n",
        "print(a * 3)\n"
      ],
      "execution_count": null,
      "outputs": [
        {
          "output_type": "stream",
          "text": [
            "SparshaAbinethri\n",
            "SparshaSparshaSparsha\n"
          ],
          "name": "stdout"
        }
      ]
    },
    {
      "cell_type": "markdown",
      "metadata": {
        "id": "l8Qj5mObT7FM"
      },
      "source": [
        "String methods"
      ]
    },
    {
      "cell_type": "code",
      "metadata": {
        "id": "iIvLmZhQT9Xt",
        "colab": {
          "base_uri": "https://localhost:8080/",
          "height": 108
        },
        "outputId": "0cad276c-dd77-4aa6-816c-9827a1e1c433"
      },
      "source": [
        "a = \"India is my country\"\n",
        "print(len(a))\n",
        "print(a.count(\"i\"))\n",
        "print(a.capitalize())\n",
        "print(a.casefold())\n",
        "print(a.center(20))"
      ],
      "execution_count": null,
      "outputs": [
        {
          "output_type": "stream",
          "text": [
            "19\n",
            "2\n",
            "India is my country\n",
            "india is my country\n",
            "India is my country \n"
          ],
          "name": "stdout"
        }
      ]
    },
    {
      "cell_type": "markdown",
      "metadata": {
        "id": "MSi_QPEhaQuc"
      },
      "source": [
        "Print even indexed letters in a string"
      ]
    },
    {
      "cell_type": "code",
      "metadata": {
        "id": "p0QOEX4LaVSt",
        "colab": {
          "base_uri": "https://localhost:8080/",
          "height": 54
        },
        "outputId": "2bc29157-d5d9-47c7-e492-479e0f7e035b"
      },
      "source": [
        "a = \"India is my country\"\n",
        "print(a[0:19:2])\n"
      ],
      "execution_count": null,
      "outputs": [
        {
          "output_type": "stream",
          "text": [
            "Idai ycuty\n",
            "/n\n"
          ],
          "name": "stdout"
        }
      ]
    },
    {
      "cell_type": "markdown",
      "metadata": {
        "id": "XsqqTDw56PYV"
      },
      "source": [
        "palindrome "
      ]
    },
    {
      "cell_type": "code",
      "metadata": {
        "id": "0kOEygcn6TA4",
        "colab": {
          "base_uri": "https://localhost:8080/",
          "height": 72
        },
        "outputId": "0f837c61-0fee-4463-d780-83f3263bd06d"
      },
      "source": [
        "a = input()\n",
        "b = a[::-1]\n",
        "print(b)\n",
        "\n",
        "if a==b:\n",
        "  print(\"Yes, the given string is a palindrome\")\n",
        "else:\n",
        "  print(\"No, the given string is not a palindrome \")\n"
      ],
      "execution_count": null,
      "outputs": [
        {
          "output_type": "stream",
          "text": [
            "mom\n",
            "mom\n",
            "Yes, the given string is a palindrome\n"
          ],
          "name": "stdout"
        }
      ]
    },
    {
      "cell_type": "markdown",
      "metadata": {
        "id": "QfxXIda_RaSd"
      },
      "source": [
        "Reverse the words"
      ]
    },
    {
      "cell_type": "code",
      "metadata": {
        "id": "mYcuYffnRcle",
        "colab": {
          "base_uri": "https://localhost:8080/",
          "height": 54
        },
        "outputId": "ae8e85c1-ca0a-4654-d9a1-661cdee5dbbe"
      },
      "source": [
        "a = input()\n",
        "b = a.split(' ')\n",
        "c = ' '.join(reversed(b))\n",
        "print(c)\n"
      ],
      "execution_count": null,
      "outputs": [
        {
          "output_type": "stream",
          "text": [
            "India is my country\n",
            "country my is India\n"
          ],
          "name": "stdout"
        }
      ]
    },
    {
      "cell_type": "markdown",
      "metadata": {
        "id": "jB1wWK5QS217"
      },
      "source": [
        "To check if a sub-string is present in the given string "
      ]
    },
    {
      "cell_type": "code",
      "metadata": {
        "id": "EKfsy1M3S_PR",
        "colab": {
          "base_uri": "https://localhost:8080/",
          "height": 72
        },
        "outputId": "25b5878c-448c-4de7-fa99-97f191c42358"
      },
      "source": [
        "a = input()\n",
        "b = input()\n",
        "if b in a:\n",
        "  print(\"yes\")\n",
        "   \n",
        "else:\n",
        "  print(\"No\")"
      ],
      "execution_count": null,
      "outputs": [
        {
          "output_type": "stream",
          "text": [
            "sparsha abntehir is\n",
            "is\n",
            "yes\n"
          ],
          "name": "stdout"
        }
      ]
    },
    {
      "cell_type": "markdown",
      "metadata": {
        "id": "o2mlQ3IzVDbK"
      },
      "source": [
        "Count no.of words/letters"
      ]
    },
    {
      "cell_type": "code",
      "metadata": {
        "id": "7SbbNm1IVtUb",
        "colab": {
          "base_uri": "https://localhost:8080/",
          "height": 72
        },
        "outputId": "74c41762-7919-44ce-a9cf-65ccac29a85d"
      },
      "source": [
        "a = input()\n",
        "b = input()\n",
        "x = a.count(b)\n",
        "print(x)"
      ],
      "execution_count": null,
      "outputs": [
        {
          "output_type": "stream",
          "text": [
            "apples are apples because apple is an apple\n",
            "apples\n",
            "2\n"
          ],
          "name": "stdout"
        }
      ]
    },
    {
      "cell_type": "markdown",
      "metadata": {
        "id": "3LTYFTx8G3Gx"
      },
      "source": [
        "Count even lettered words"
      ]
    },
    {
      "cell_type": "code",
      "metadata": {
        "id": "s6wSaTkFIZHY",
        "colab": {
          "base_uri": "https://localhost:8080/",
          "height": 72
        },
        "outputId": "f92a8058-7489-4fe2-b4a5-2e0f689ec911"
      },
      "source": [
        "a = input()\n",
        "\n",
        "b = a.split(\" \")\n",
        "\n",
        "for i in b:\n",
        "  e = len(i)\n",
        "  if e%2==0:\n",
        "    print(i)"
      ],
      "execution_count": null,
      "outputs": [
        {
          "output_type": "stream",
          "text": [
            "ths is me\n",
            "is\n",
            "me\n"
          ],
          "name": "stdout"
        }
      ]
    },
    {
      "cell_type": "markdown",
      "metadata": {
        "id": "NAstEAjiJjb-"
      },
      "source": [
        "Accepting strings which contain all the vowels"
      ]
    },
    {
      "cell_type": "code",
      "metadata": {
        "id": "I6rOMUq1Jpov",
        "colab": {
          "base_uri": "https://localhost:8080/",
          "height": 54
        },
        "outputId": "e69ed0d5-fe48-4d0e-9f42-bdce788bf26e"
      },
      "source": [
        "a = input()\n",
        "\n",
        "if ('a'in a and 'i' in a and 'e' in a and 'o' in a and 'u' in a):\n",
        "  print(\"The given string contains all the vowels\")\n",
        "  print(a)\n",
        "else:\n",
        "  print(\"The given string doesn't contain all the vowels \") "
      ],
      "execution_count": null,
      "outputs": [
        {
          "output_type": "stream",
          "text": [
            "suspect\n",
            "The given string doesn't contain all the vowels \n"
          ],
          "name": "stdout"
        }
      ]
    },
    {
      "cell_type": "markdown",
      "metadata": {
        "id": "vEQ0_I4NPXQJ"
      },
      "source": [
        "Count vowels in a string"
      ]
    },
    {
      "cell_type": "code",
      "metadata": {
        "id": "XYSjgPkyPaxv",
        "colab": {
          "base_uri": "https://localhost:8080/",
          "height": 54
        },
        "outputId": "dc79139c-0fa4-4ad6-cb7d-70be2641fea8"
      },
      "source": [
        "a = input()\n",
        "vowels = a.count(\"a\") + a.count(\"i\")+ a.count(\"e\") + a.count(\"o\") + a.count(\"u\")\n",
        "print(vowels)"
      ],
      "execution_count": null,
      "outputs": [
        {
          "output_type": "stream",
          "text": [
            "massachutes institute of technology\n",
            "12\n"
          ],
          "name": "stdout"
        }
      ]
    },
    {
      "cell_type": "markdown",
      "metadata": {
        "id": "dYXVcB-1RkHE"
      },
      "source": [
        "Print strings only that are greater than certain limit "
      ]
    },
    {
      "cell_type": "code",
      "metadata": {
        "id": "z-rzIIQtVbBS",
        "colab": {
          "base_uri": "https://localhost:8080/",
          "height": 163
        },
        "outputId": "03da562d-46ec-4168-b65e-f51f7719d8d1"
      },
      "source": [
        "a = input()\n",
        "k = int(input())\n",
        "b = a.split(' ')\n",
        "for i in b:\n",
        "  if len(i) > k:\n",
        "    print(i)\n"
      ],
      "execution_count": null,
      "outputs": [
        {
          "output_type": "stream",
          "text": [
            "Since the childhood, we got back then i\n",
            "2\n",
            "Since\n",
            "the\n",
            "childhood,\n",
            "got\n",
            "back\n",
            "then\n"
          ],
          "name": "stdout"
        }
      ]
    },
    {
      "cell_type": "markdown",
      "metadata": {
        "id": "ElZZXyFjwcUg"
      },
      "source": [
        "program to split and joined words"
      ]
    },
    {
      "cell_type": "code",
      "metadata": {
        "id": "fR9tBx7twmhH",
        "colab": {
          "base_uri": "https://localhost:8080/",
          "height": 72
        },
        "outputId": "ce221215-0945-45eb-a440-2ded79183aee"
      },
      "source": [
        "a = input()\n",
        "b = a.split(' ')\n",
        "print(b)\n",
        "c = \" \".join(b)\n",
        "print(c)"
      ],
      "execution_count": null,
      "outputs": [
        {
          "output_type": "stream",
          "text": [
            "The world is flying\n",
            "['The', 'world', 'is', 'flying']\n",
            "The world is flying\n"
          ],
          "name": "stdout"
        }
      ]
    },
    {
      "cell_type": "markdown",
      "metadata": {
        "id": "jcfftSZa02wL"
      },
      "source": [
        "Print uncommon words from both the strings"
      ]
    },
    {
      "cell_type": "code",
      "metadata": {
        "id": "Af_PPP6_1GyB",
        "colab": {
          "base_uri": "https://localhost:8080/",
          "height": 90
        },
        "outputId": "7b08fcbc-37c6-42cb-d18d-8a0d5750b78e"
      },
      "source": [
        "a = input()\n",
        "a1 = a.split(' ')\n",
        "b = input()\n",
        "b1 = b.split(' ')\n",
        "c = []\n",
        "for i in a1:\n",
        "  for j in b1:\n",
        "    if i==j:\n",
        "      break\n",
        "  else:\n",
        "    print(i)\n",
        "    print(j)"
      ],
      "execution_count": null,
      "outputs": [
        {
          "output_type": "stream",
          "text": [
            "the wron thin\n",
            "the right thin\n",
            "wron\n",
            "thin\n"
          ],
          "name": "stdout"
        }
      ]
    },
    {
      "cell_type": "markdown",
      "metadata": {
        "id": "PMLG9lSvAW69"
      },
      "source": [
        "Swap commas with fullstops and vice versa"
      ]
    },
    {
      "cell_type": "code",
      "metadata": {
        "id": "OhovSGvxAfm3",
        "colab": {
          "base_uri": "https://localhost:8080/",
          "height": 54
        },
        "outputId": "8088b6fb-e2d7-496f-cd45-151b6b90684c"
      },
      "source": [
        "a = input()\n",
        "b = a.replace(\",\",\"$\")\n",
        "c = b.replace(\".\",\",\")\n",
        "d = c.replace(\"$\",\".\")\n",
        "print(d)\n"
      ],
      "execution_count": null,
      "outputs": [
        {
          "output_type": "stream",
          "text": [
            "you,i.\n",
            "you.i,\n"
          ],
          "name": "stdout"
        }
      ]
    },
    {
      "cell_type": "markdown",
      "metadata": {
        "id": "JFiB4NMC58Mn"
      },
      "source": [
        "Check if a string has special characters"
      ]
    },
    {
      "cell_type": "code",
      "metadata": {
        "id": "6JPA8IIH6BO4",
        "colab": {
          "base_uri": "https://localhost:8080/",
          "height": 54
        },
        "outputId": "73fd74de-cc61-4b03-f0f8-cefbc885bf63"
      },
      "source": [
        "a = input()\n",
        "b = []\n",
        "for i in a:\n",
        "  if( 65 > ord(i)>57 or 32<ord(i)<47 or 91<ord(i)<96 or 123<ord(i)<126 ):\n",
        "    print(\"Yes,the string contains special characters\")\n",
        "    break\n",
        "    \n",
        "else:\n",
        "  print(\"The string doesn't contain any special characters\")\n"
      ],
      "execution_count": null,
      "outputs": [
        {
          "output_type": "stream",
          "text": [
            "hfeuewkj?.?\n",
            "Yes,the string contains special characters\n"
          ],
          "name": "stdout"
        }
      ]
    },
    {
      "cell_type": "markdown",
      "metadata": {
        "id": "QPiKIwMyFFGu"
      },
      "source": [
        "Remove duplicates from the string"
      ]
    },
    {
      "cell_type": "code",
      "metadata": {
        "id": "p7DbbLoeFJj3",
        "colab": {
          "base_uri": "https://localhost:8080/",
          "height": 54
        },
        "outputId": "bf7118ae-b858-41ba-cf1a-2a8993880eef"
      },
      "source": [
        "a = input()\n",
        "b = set(a)\n",
        "b = \"\".join(b)\n",
        "print(b)"
      ],
      "execution_count": null,
      "outputs": [
        {
          "output_type": "stream",
          "text": [
            "sparsha\n",
            "prhas\n"
          ],
          "name": "stdout"
        }
      ]
    },
    {
      "cell_type": "markdown",
      "metadata": {
        "id": "wtoWCgsdHjAo"
      },
      "source": [
        "Removes ith character from the string"
      ]
    },
    {
      "cell_type": "code",
      "metadata": {
        "id": "5qZ5gOlQHueo"
      },
      "source": [
        "a = input()\n",
        "b = \"\"\n",
        "for i in range(len(a)):\n",
        "  if i!=2:\n",
        "    b = b + a[i]\n",
        "\n"
      ],
      "execution_count": null,
      "outputs": []
    }
  ]
}
{
  "nbformat": 4,
  "nbformat_minor": 0,
  "metadata": {
    "colab": {
      "name": "lists.ipynb",
      "provenance": [],
      "authorship_tag": "ABX9TyP/k3yh1Iw+g5IQEMwaKPhG",
      "include_colab_link": true
    },
    "kernelspec": {
      "name": "python3",
      "display_name": "Python 3"
    }
  },
  "cells": [
    {
      "cell_type": "markdown",
      "metadata": {
        "id": "view-in-github",
        "colab_type": "text"
      },
      "source": [
        "<a href=\"https://colab.research.google.com/github/SparshaAbhinethri/Python/blob/main/lists.ipynb\" target=\"_parent\"><img src=\"https://colab.research.google.com/assets/colab-badge.svg\" alt=\"Open In Colab\"/></a>"
      ]
    },
    {
      "cell_type": "markdown",
      "metadata": {
        "id": "vgyrIGDh-mFM"
      },
      "source": [
        "Swap any variables in a given list"
      ]
    },
    {
      "cell_type": "code",
      "metadata": {
        "id": "q6YJwkHJ9ihz",
        "colab": {
          "base_uri": "https://localhost:8080/",
          "height": 55
        },
        "outputId": "19f29ea3-072e-4f31-ec83-655732fbabb9"
      },
      "source": [
        "lst = [1,2,3,4,5,6]\n",
        "\n",
        "a = lst[0]\n",
        "lst[0] = lst[-1]\n",
        "lst[-1] = a\n",
        "print(lst)\n",
        "\n",
        "lst1 = [1,2,3,4,5,6]\n",
        "a = int(input())\n",
        "b = int(input())\n",
        "c = lst1[a]\n",
        "lst1[a] =lst1[b]\n",
        "lst1[b] = c\n",
        "print(lst1)"
      ],
      "execution_count": null,
      "outputs": [
        {
          "output_type": "stream",
          "text": [
            "[6, 2, 3, 4, 5, 1]\n"
          ],
          "name": "stdout"
        }
      ]
    },
    {
      "cell_type": "markdown",
      "metadata": {
        "id": "rN8qPzpsDmVt"
      },
      "source": [
        "Length of a list"
      ]
    },
    {
      "cell_type": "code",
      "metadata": {
        "id": "QVR8NMi5Dq64",
        "colab": {
          "base_uri": "https://localhost:8080/",
          "height": 54
        },
        "outputId": "546c1cca-027d-46e5-ce9d-de96365a5fc0"
      },
      "source": [
        "a =[1,3,6,4,1,3,4]\n",
        "#method1\n",
        "print(\"The length of a given list is {} \".format(len(a)))\n",
        "#method2\n",
        "sum = 0\n",
        "for i in a:\n",
        "  sum = sum + 1\n",
        "print(\"The length of a given list is : {} \".format(sum))\n"
      ],
      "execution_count": null,
      "outputs": [
        {
          "output_type": "stream",
          "text": [
            "The length of a given list is 7 \n",
            "The length of a given list is : 7 \n"
          ],
          "name": "stdout"
        }
      ]
    },
    {
      "cell_type": "markdown",
      "metadata": {
        "id": "COV_EqTAFcoq"
      },
      "source": [
        "Check if element exists in a list"
      ]
    },
    {
      "cell_type": "code",
      "metadata": {
        "id": "MljRrCpeFhFU",
        "colab": {
          "base_uri": "https://localhost:8080/",
          "height": 54
        },
        "outputId": "1ca0438d-860d-4cbe-d54e-dbfcf9819d13"
      },
      "source": [
        "a = [1,4,3,6,\"a\",\"g\",\"#\"]\n",
        "b = input()\n",
        "if b in a:\n",
        "  print(\"The element is present in the list\")\n",
        "else:\n",
        "  print(\"The element is not present in the list\")\n",
        "\n",
        "#have a doubt to give any datatype as an input"
      ],
      "execution_count": null,
      "outputs": [
        {
          "output_type": "stream",
          "text": [
            "#\n",
            "The element is present in the list\n"
          ],
          "name": "stdout"
        }
      ]
    },
    {
      "cell_type": "markdown",
      "metadata": {
        "id": "u-crergtHSd7"
      },
      "source": [
        "Clear the list "
      ]
    },
    {
      "cell_type": "code",
      "metadata": {
        "id": "OMe-0db1HegK",
        "colab": {
          "base_uri": "https://localhost:8080/",
          "height": 51
        },
        "outputId": "683c364f-7127-4fd9-da29-f72b9d9fe9c7"
      },
      "source": [
        "a = [1,4,5,3,2]\n",
        "a.pop()\n",
        "print(a)\n",
        "a.clear()\n",
        "print(a)"
      ],
      "execution_count": null,
      "outputs": [
        {
          "output_type": "stream",
          "text": [
            "[1, 4, 5, 3]\n",
            "[]\n"
          ],
          "name": "stdout"
        }
      ]
    },
    {
      "cell_type": "markdown",
      "metadata": {
        "id": "0PDVd8CdJ4NJ"
      },
      "source": [
        "Reverse a list"
      ]
    },
    {
      "cell_type": "code",
      "metadata": {
        "id": "qjdg7jwaJ6Um",
        "colab": {
          "base_uri": "https://localhost:8080/",
          "height": 35
        },
        "outputId": "da4a799d-0124-4b63-acd1-4cf2a0b70aac"
      },
      "source": [
        "a =[1,3,2,5,4]\n",
        "a = a[::-1]\n",
        "print(a)"
      ],
      "execution_count": null,
      "outputs": [
        {
          "output_type": "stream",
          "text": [
            "[4, 5, 2, 3, 1]\n"
          ],
          "name": "stdout"
        }
      ]
    },
    {
      "cell_type": "markdown",
      "metadata": {
        "id": "1tKfejbnPGwT"
      },
      "source": [
        "Cloning or copying the list"
      ]
    },
    {
      "cell_type": "code",
      "metadata": {
        "id": "WW3qCIo6PLYC",
        "colab": {
          "base_uri": "https://localhost:8080/",
          "height": 35
        },
        "outputId": "fc342041-eec2-44fd-f360-e1d84f7b7407"
      },
      "source": [
        "a = [1,4,3,2,6,5,]\n",
        "b =[]\n",
        "for i in a:\n",
        "  b.append(i)\n",
        "print(b)\n"
      ],
      "execution_count": null,
      "outputs": [
        {
          "output_type": "stream",
          "text": [
            "[1, 4, 3, 2, 6, 5]\n"
          ],
          "name": "stdout"
        }
      ]
    },
    {
      "cell_type": "markdown",
      "metadata": {
        "id": "kLggirREQo8n"
      },
      "source": [
        "Count number of times an element occurs"
      ]
    },
    {
      "cell_type": "code",
      "metadata": {
        "id": "uJDy1dZVTHnB",
        "colab": {
          "base_uri": "https://localhost:8080/",
          "height": 35
        },
        "outputId": "abbdc5f2-4dbf-4f70-e116-89e9e6ee96a0"
      },
      "source": [
        "a = [1,3,2,5,4,3,4,5,3,3,3]\n",
        "c = a.count(3)\n",
        "print(c)"
      ],
      "execution_count": null,
      "outputs": [
        {
          "output_type": "stream",
          "text": [
            "5\n"
          ],
          "name": "stdout"
        }
      ]
    },
    {
      "cell_type": "markdown",
      "metadata": {
        "id": "ufAxnprWTiwD"
      },
      "source": [
        "Smallest number in a list"
      ]
    },
    {
      "cell_type": "code",
      "metadata": {
        "id": "9WRX2xzfTwSO",
        "colab": {
          "base_uri": "https://localhost:8080/",
          "height": 54
        },
        "outputId": "4eb62ab2-178c-4e7f-d72b-9957acaaab76"
      },
      "source": [
        "a = [1,3,2,1,9,0,6]\n",
        "min = a[0]\n",
        "min2 = a[0]\n",
        "for i in range(0,len(a)-1):\n",
        "  if a[i] < min:\n",
        "    min = a[i]\n",
        "  if a[i] < min2 and min2 != min :\n",
        "    min2 = a[i]\n",
        "print(\"The smallest element in a given list is {}\".format(min))\n",
        "print(min2)"
      ],
      "execution_count": null,
      "outputs": [
        {
          "output_type": "stream",
          "text": [
            "The smallest element in a given list is 0\n",
            "0\n"
          ],
          "name": "stdout"
        }
      ]
    },
    {
      "cell_type": "markdown",
      "metadata": {
        "id": "CoEw6J3Cdkd2"
      },
      "source": [
        "Print all even numbers in a list"
      ]
    },
    {
      "cell_type": "code",
      "metadata": {
        "id": "c_u9kVondpTP",
        "colab": {
          "base_uri": "https://localhost:8080/",
          "height": 51
        },
        "outputId": "742a427c-cd59-4191-cc13-2c9ba926a223"
      },
      "source": [
        "a = [1,4,0,9,12,6,45,8]\n",
        "even_list = []\n",
        "for i in a:\n",
        "  if i%2==0:\n",
        "    even_list.append(i)\n",
        "\n",
        "print(a)\n",
        "print(\"The even numbers in a given list is {}\".format(even_list))"
      ],
      "execution_count": null,
      "outputs": [
        {
          "output_type": "stream",
          "text": [
            "[1, 4, 0, 9, 12, 6, 45, 8]\n",
            "The even numbers in a given list is [4, 0, 12, 6, 8]\n"
          ],
          "name": "stdout"
        }
      ]
    },
    {
      "cell_type": "markdown",
      "metadata": {
        "id": "W7GbKbr6F7xs"
      },
      "source": [
        "Count even and odd numbers in a list"
      ]
    },
    {
      "cell_type": "code",
      "metadata": {
        "id": "dW3D6r3kGAXW",
        "colab": {
          "base_uri": "https://localhost:8080/",
          "height": 51
        },
        "outputId": "1e796fdc-b60a-4417-edea-d9bb668bb8f0"
      },
      "source": [
        "a = [2,4,6,4,8,9,1]\n",
        "even = 0\n",
        "odd = 0\n",
        "for i in range(0,len(a)):\n",
        "  if a[i]%2==0:\n",
        "    even = even + 1\n",
        "  else:\n",
        "    odd += 1\n",
        "print(\"The number of even elements in a given list is : {}\".format(even))\n",
        "print(\"The number of odd elements in a given list is : {}\".format(odd))\n"
      ],
      "execution_count": null,
      "outputs": [
        {
          "output_type": "stream",
          "text": [
            "The number of even elements in a given list is : 5\n",
            "The number of odd elements in a given list is : 2\n"
          ],
          "name": "stdout"
        }
      ]
    },
    {
      "cell_type": "markdown",
      "metadata": {
        "id": "URcVf5CrJjoj"
      },
      "source": [
        "Count and print positive and negative elements in a list"
      ]
    },
    {
      "cell_type": "code",
      "metadata": {
        "id": "5N0UpnbzJrw5",
        "colab": {
          "base_uri": "https://localhost:8080/",
          "height": 68
        },
        "outputId": "57b8f907-997c-4bd9-c792-992b6e5f8c31"
      },
      "source": [
        "a = [1,2,-19,4,-5,6,-9,0,7,-4,]\n",
        "positive = []\n",
        "negative = []\n",
        "for i in range(0,len(a)):\n",
        "  if a[i] > 0:\n",
        "    positive.append(a[i])\n",
        "  elif a[i] < 0:\n",
        "    negative.append(a[i])\n",
        "  else:\n",
        "    print(\"The element in the list that is neither +ve nor -ve is 0\")\n",
        "print(\"The number of positive elements in a given list are {} and they are as follows {}\".format(len(positive),positive))\n",
        "print(\"The number of negative elements in a given list are {} and they are as follows {}\".format(len(negative),negative))"
      ],
      "execution_count": null,
      "outputs": [
        {
          "output_type": "stream",
          "text": [
            "The element in the list that is neither +ve nor -ve is 0\n",
            "The number of positive elements in a given list are 5 and they are as follows [1, 2, 4, 6, 7]\n",
            "The number of negative elements in a given list are 4 and they are as follows [-19, -5, -9, -4]\n"
          ],
          "name": "stdout"
        }
      ]
    }
  ]
}
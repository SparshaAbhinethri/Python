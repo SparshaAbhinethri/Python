{
  "nbformat": 4,
  "nbformat_minor": 0,
  "metadata": {
    "colab": {
      "name": "Practice Problems.ipynb",
      "provenance": [],
      "authorship_tag": "ABX9TyOB32RPjJod54hxN58KdWgO",
      "include_colab_link": true
    },
    "kernelspec": {
      "name": "python3",
      "display_name": "Python 3"
    }
  },
  "cells": [
    {
      "cell_type": "markdown",
      "metadata": {
        "id": "view-in-github",
        "colab_type": "text"
      },
      "source": [
        "<a href=\"https://colab.research.google.com/github/SparshaAbhinethri/Python/blob/main/Practice_Problems.ipynb\" target=\"_parent\"><img src=\"https://colab.research.google.com/assets/colab-badge.svg\" alt=\"Open In Colab\"/></a>"
      ]
    },
    {
      "cell_type": "markdown",
      "metadata": {
        "id": "-ftmXYpnppKh"
      },
      "source": [
        "Factors , Prime Factors and largest prime factor"
      ]
    },
    {
      "cell_type": "markdown",
      "metadata": {
        "id": "xMvnuwmFF-mv"
      },
      "source": [
        "to give array inputs"
      ]
    },
    {
      "cell_type": "code",
      "metadata": {
        "id": "kBsKSSKeF9TQ",
        "colab": {
          "base_uri": "https://localhost:8080/",
          "height": 102
        },
        "outputId": "75fa52ff-8b6d-4290-a55d-76aa79a38342"
      },
      "source": [
        "n = int(input())\n",
        "Array=list(map(int, input().split(\" \")[:n]))\n",
        "print(Array)\n",
        "print(max(Array))\n",
        "Array.remove(max(Array))\n",
        "print(Array)"
      ],
      "execution_count": null,
      "outputs": [
        {
          "output_type": "stream",
          "text": [
            "5 \n",
            "1 2 3 4 5\n",
            "[1, 2, 3, 4, 5]\n",
            "5\n",
            "[1, 2, 3, 4]\n"
          ],
          "name": "stdout"
        }
      ]
    },
    {
      "cell_type": "markdown",
      "metadata": {
        "id": "T8q0DavOIq_u"
      },
      "source": [
        "to find 2nd largest eement in an array"
      ]
    },
    {
      "cell_type": "code",
      "metadata": {
        "id": "slKna4EtIwHv",
        "colab": {
          "base_uri": "https://localhost:8080/",
          "height": 68
        },
        "outputId": "84174b0b-37b9-4f1e-813c-b9aa391b2e17"
      },
      "source": [
        "n = int(input())\n",
        "b=list(map(int, input().split(\" \")[:n]))\n",
        "a = set(b) # set function in used to remove duplicates in an array\n",
        "a.remove(max(a))\n",
        "print(max(a))\n"
      ],
      "execution_count": null,
      "outputs": [
        {
          "output_type": "stream",
          "text": [
            "5\n",
            "1 2 3 5 6 6\n",
            "5\n"
          ],
          "name": "stdout"
        }
      ]
    },
    {
      "cell_type": "markdown",
      "metadata": {
        "id": "4uFIkynAVutB"
      },
      "source": [
        "set difference and intersection"
      ]
    },
    {
      "cell_type": "code",
      "metadata": {
        "id": "i5hsH13KVyIs",
        "colab": {
          "base_uri": "https://localhost:8080/",
          "height": 153
        },
        "outputId": "778ed38a-1b40-4d30-ede0-201b282360a9"
      },
      "source": [
        "n = int(input())\n",
        "arr = map(int,input().split(\" \")[:n])\n",
        "m = int(input())\n",
        "arr1 = map(int,input().split(\" \")[:m])\n",
        "a = set(arr)\n",
        "b = set(arr1)\n",
        "c = a.difference(b)\n",
        "d = a.intersection(b)\n",
        "e = a.union(b)\n",
        "f = a.symmetric_difference(b) #a+b - a intersec b\n",
        "print(len(c))\n",
        "print(len(d))\n",
        "print(len(e))\n",
        "print(len(f))"
      ],
      "execution_count": null,
      "outputs": [
        {
          "output_type": "stream",
          "text": [
            "9\n",
            "1 2 3 4 5 6 7 8 9\n",
            "9 \n",
            "10 1 2 3 11 21 55 6 8\n",
            "4\n",
            "5\n",
            "13\n",
            "8\n"
          ],
          "name": "stdout"
        }
      ]
    },
    {
      "cell_type": "markdown",
      "metadata": {
        "id": "IxMEV0j1auya"
      },
      "source": [
        "symmetric difference"
      ]
    },
    {
      "cell_type": "code",
      "metadata": {
        "id": "j6ugBStPayhh",
        "colab": {
          "base_uri": "https://localhost:8080/",
          "height": 153
        },
        "outputId": "befd1b74-1e87-48ff-d88b-ff34b1cb708c"
      },
      "source": [
        "n = int(input())\n",
        "arr = map(int,input().split(\" \")[:n])\n",
        "m = int(input())\n",
        "arr1 = map(int,input().split(\" \")[:m])\n",
        "a = set(arr)\n",
        "b = set(arr1)\n",
        "f = a.symmetric_difference(b)\n",
        "f = list(f)\n",
        "\n",
        "for i in range(0,len(f)):\n",
        "    d = min(f)\n",
        "    print(d)\n",
        "    f.remove(d)\n",
        "\n",
        "        "
      ],
      "execution_count": null,
      "outputs": [
        {
          "output_type": "stream",
          "text": [
            "4\n",
            "1 2 5 9\n",
            "4\n",
            "1 2 11 7\n",
            "5\n",
            "7\n",
            "9\n",
            "11\n"
          ],
          "name": "stdout"
        }
      ]
    },
    {
      "cell_type": "code",
      "metadata": {
        "id": "kt2KKeHIqVfe",
        "colab": {
          "base_uri": "https://localhost:8080/",
          "height": 85
        },
        "outputId": "25ddedf9-66e9-4390-f793-71f9fa2a0b2c"
      },
      "source": [
        "a = int(input(\"Enter the number : \"))\n",
        "factors = []\n",
        "primefactors = []\n",
        "for i in range(1,a+1):\n",
        "  if a % i == 0:\n",
        "    factors.append(i)\n",
        "print(\"The factors of a given number are {}\".format(factors))\n",
        "sum = 0\n",
        "for i in factors:\n",
        "  for j in range(2,i):\n",
        "    if i%j == 0:\n",
        "      break\n",
        "  else:\n",
        "    primefactors.append(i)\n",
        "print(\"The prime factors of a given number are {}\".format(primefactors))\n",
        "max = primefactors[0]\n",
        "for k in range(0,len(primefactors)):\n",
        "  if primefactors[k] > max:\n",
        "    max = primefactors[k]\n",
        "print(\"The largest number of the prime factors is {} \".format(max))"
      ],
      "execution_count": null,
      "outputs": [
        {
          "output_type": "stream",
          "text": [
            "Enter the number : 56\n",
            "The factors of a given number are [1, 2, 4, 7, 8, 14, 28, 56]\n",
            "The prime factors of a given number are [1, 2, 7]\n",
            "The largest number of the prime factors is 7 \n"
          ],
          "name": "stdout"
        }
      ]
    },
    {
      "cell_type": "markdown",
      "metadata": {
        "id": "OxEEPrKIsbDy"
      },
      "source": [
        "Common Divisors of 2 numbers"
      ]
    },
    {
      "cell_type": "code",
      "metadata": {
        "id": "_wb-8FZesfDk",
        "colab": {
          "base_uri": "https://localhost:8080/",
          "height": 170
        },
        "outputId": "dd0e074c-4a3c-45d8-f3e5-1a3c8efec95c"
      },
      "source": [
        "a = int(input())\n",
        "b = int(input())\n",
        "facta = []\n",
        "factb = []\n",
        "common = []\n",
        "for i in range(1,a):\n",
        "  if a%i==0:\n",
        "    facta.append(i)\n",
        "print(facta)\n",
        "for i in range(1,b):\n",
        "  if b%i==0:\n",
        "    factb.append(i)\n",
        "print(factb)\n",
        "\n",
        "print(list(set(facta) & set(factb)))\n",
        "\n",
        "#method 2\n",
        "\n",
        "for i in range(1,min(a,b)+1):\n",
        "  if a%i == b%i == 0:\n",
        "    print(i)"
      ],
      "execution_count": null,
      "outputs": [
        {
          "output_type": "stream",
          "text": [
            "56\n",
            "64\n",
            "[1, 2, 4, 7, 8, 14, 28]\n",
            "[1, 2, 4, 8, 16, 32]\n",
            "[8, 1, 2, 4]\n",
            "1\n",
            "2\n",
            "4\n",
            "8\n"
          ],
          "name": "stdout"
        }
      ]
    },
    {
      "cell_type": "markdown",
      "metadata": {
        "id": "xFpleAz0fauC"
      },
      "source": [
        "To find focal length of both convex and concave mirrors"
      ]
    },
    {
      "cell_type": "code",
      "metadata": {
        "id": "JcWPKFhMfkwP",
        "colab": {
          "base_uri": "https://localhost:8080/",
          "height": 68
        },
        "outputId": "4ec09f64-f39c-4b48-c367-8f71054ebc2a"
      },
      "source": [
        "Radius = float(input())\n",
        "Mirror = input(\"Is the mirror Concave or Convex ? \")\n",
        "if Mirror==\"Concave\":\n",
        "  print(\"The focal length of a concave mirror is {} \".format(Radius/2))\n",
        "if Mirror==\"Convex\":\n",
        "  print(\"The focal length of a convex mirror is {} \".format(-Radius/2))"
      ],
      "execution_count": null,
      "outputs": [
        {
          "output_type": "stream",
          "text": [
            "5\n",
            "Is the mirror Concave or Convex ? Convex\n",
            "The focal length of a convex mirror is -2.5 \n"
          ],
          "name": "stdout"
        }
      ]
    },
    {
      "cell_type": "markdown",
      "metadata": {
        "id": "Bzbqwdh4g6sf"
      },
      "source": [
        "Check if the angles match with the properties of triangle"
      ]
    },
    {
      "cell_type": "code",
      "metadata": {
        "id": "28j9CZmMhDkz",
        "colab": {
          "base_uri": "https://localhost:8080/",
          "height": 85
        },
        "outputId": "cb0f20ba-0f3a-4654-fd15-7c81a0dbba7f"
      },
      "source": [
        "a = int(input())\n",
        "b = int(input())\n",
        "c = int(input())\n",
        "if a!= 0 and b!=0 and c!=0 and (a+b+c)==180 :\n",
        "  if (a+b > c) or (b+c > a)  or (a+c > b):\n",
        "    print(\"The given angles satisfy the properties of a triangle\")\n",
        "else:\n",
        "  print(\"The given angles doesn't satisfy the properties of a triangle\")\n",
        "\n"
      ],
      "execution_count": null,
      "outputs": [
        {
          "output_type": "stream",
          "text": [
            "40\n",
            "30\n",
            "40\n",
            "The given angles doesn't satisfy the properties of a triangle\n"
          ],
          "name": "stdout"
        }
      ]
    },
    {
      "cell_type": "markdown",
      "metadata": {
        "id": "aLszKWyZilUR"
      },
      "source": [
        "Most occuring character in a string and its count"
      ]
    },
    {
      "cell_type": "code",
      "metadata": {
        "id": "UbFgRlVhitXL",
        "colab": {
          "base_uri": "https://localhost:8080/",
          "height": 51
        },
        "outputId": "646149f2-3ee1-4e91-dbc3-db11778bb255"
      },
      "source": [
        "from collections import Counter\n",
        "a = input()\n",
        "a = a.casefold() #converts every character to lower case\n",
        "count = Counter(a)\n",
        "print(count)\n"
      ],
      "execution_count": null,
      "outputs": [
        {
          "output_type": "stream",
          "text": [
            "sparsha\n",
            "Counter({'s': 2, 'a': 2, 'p': 1, 'r': 1, 'h': 1})\n"
          ],
          "name": "stdout"
        }
      ]
    },
    {
      "cell_type": "code",
      "metadata": {
        "id": "XWAZ-AAgKZzw",
        "colab": {
          "base_uri": "https://localhost:8080/",
          "height": 102
        },
        "outputId": "2df54480-ed28-4537-acc8-fdc02630a4c9"
      },
      "source": [
        "a = int(input())\n",
        "b = int(input())\n",
        "d = []\n",
        "e = \"\"\n",
        "for i in range(b):\n",
        "    c = input()\n",
        "    d.append(c)\n",
        "e = e.join(d)\n",
        "\n",
        "print(4*e)\n"
      ],
      "execution_count": null,
      "outputs": [
        {
          "output_type": "stream",
          "text": [
            "4\n",
            "2\n",
            "a\n",
            "b\n",
            "abababab\n"
          ],
          "name": "stdout"
        }
      ]
    },
    {
      "cell_type": "code",
      "metadata": {
        "id": "kHQ0h6GdUPQL"
      },
      "source": [
        "a = int(input())\n",
        "b = int(input())\n",
        "if 1 <= a <= 100000 and 1 <= b <= min(a,100):\n",
        "   d = []\n",
        "   f = []\n",
        "   for i in range(b):\n",
        "       c = input()\n",
        "       if \"a\" <= c <= \"z\":\n",
        "           d.append(c)\n",
        "   for element in d:\n",
        "       f.append(element.strip()) #to remove next line in list elements\n",
        "\n",
        "   e = \"\".join(f)\n",
        "\n",
        "   print(a*e)"
      ],
      "execution_count": null,
      "outputs": []
    },
    {
      "cell_type": "markdown",
      "metadata": {
        "id": "pdoqk4aUHXil"
      },
      "source": [
        "no idea"
      ]
    },
    {
      "cell_type": "code",
      "metadata": {
        "id": "VHy8UZ1xHcT6",
        "colab": {
          "base_uri": "https://localhost:8080/",
          "height": 102
        },
        "outputId": "10b0354b-55d3-4759-f0b2-bb911bcae18e"
      },
      "source": [
        "a = list(map(int,input().split(\" \")))\n",
        "n = a[0]\n",
        "m = a[1]\n",
        "array = list(map(int,input().split(\" \"))) #list inputs\n",
        "set1 = set(map(int,input().split(\" \")))  #set inputs\n",
        "set2 = set(map(int,input().split(\" \")))\n",
        "count = 0\n",
        "for i in array:\n",
        "  if i in set1:\n",
        "    count = count + 1\n",
        "  elif i in set2:\n",
        "    count = count - 1\n",
        "  else:\n",
        "    count  = count \n",
        "print(count)"
      ],
      "execution_count": null,
      "outputs": [
        {
          "output_type": "stream",
          "text": [
            "2 3\n",
            "1 5 3\n",
            "1 3\n",
            "5 7\n",
            "1\n"
          ],
          "name": "stdout"
        }
      ]
    },
    {
      "cell_type": "code",
      "metadata": {
        "id": "fhGDdpV32Naz",
        "colab": {
          "base_uri": "https://localhost:8080/",
          "height": 68
        },
        "outputId": "b1897f96-550c-4fdc-f70c-1233223ea1fd"
      },
      "source": [
        "x, y = [int(x) for x in input().split()]  #giving 2 inputs in a single line\n",
        "print(x)\n",
        "print(y)"
      ],
      "execution_count": null,
      "outputs": [
        {
          "output_type": "stream",
          "text": [
            "3 4\n",
            "3\n",
            "4\n"
          ],
          "name": "stdout"
        }
      ]
    },
    {
      "cell_type": "markdown",
      "metadata": {
        "id": "Zjx1KaxhXMBJ"
      },
      "source": [
        "print unique elements"
      ]
    },
    {
      "cell_type": "code",
      "metadata": {
        "id": "1BiY57CgRPGu",
        "colab": {
          "base_uri": "https://localhost:8080/",
          "height": 68
        },
        "outputId": "07f1c05e-d22f-4c17-e857-2f803b12b2e7"
      },
      "source": [
        "n = int(input())\n",
        "arr = list(map(int,input().split(\" \")))\n",
        "m = [x for x in arr if arr.count(x)!=n]\n",
        "print(m)"
      ],
      "execution_count": null,
      "outputs": [
        {
          "output_type": "stream",
          "text": [
            "5 \n",
            "1 2 3 4 5 1 2 3 4 5 1 2 3 4 5 1 2 3 4 5 1 2 3 4 5 8\n",
            "[8]\n"
          ],
          "name": "stdout"
        }
      ]
    },
    {
      "cell_type": "code",
      "metadata": {
        "id": "J3gloQODZPrW",
        "colab": {
          "base_uri": "https://localhost:8080/",
          "height": 51
        },
        "outputId": "3ba3a5fe-f4fd-42c4-fc0d-400752f6d76f"
      },
      "source": [
        "n = int(input())\n",
        "ar = []\n",
        "\n",
        "for j in range(1,n+1):\n",
        "    ar.append(j)\n",
        "for i in ar:\n",
        "  print(i,end=\"\") #print list as string"
      ],
      "execution_count": null,
      "outputs": [
        {
          "output_type": "stream",
          "text": [
            "3\n",
            "123"
          ],
          "name": "stdout"
        }
      ]
    },
    {
      "cell_type": "code",
      "metadata": {
        "id": "yLtsbDIHgSeC"
      },
      "source": [
        "n = int(input())\n",
        "l= []\n",
        "for i in range(n):\n",
        "    c = input()\n",
        "    l.append(c)\n"
      ],
      "execution_count": null,
      "outputs": []
    },
    {
      "cell_type": "code",
      "metadata": {
        "id": "wqtZZQokhHym",
        "colab": {
          "base_uri": "https://localhost:8080/",
          "height": 153
        },
        "outputId": "6f0b194f-844d-425f-df44-74690e6df5ce"
      },
      "source": [
        "n = int(input())\n",
        "a = list(map(int,input().split(\" \")))\n",
        "for i in range(0,n):\n",
        "  if a[-i] > a[-i+1] or a[i] > a[i+1]:\n",
        "    print(\"Yes\")\n",
        "  else:\n",
        "    print(\"No\")"
      ],
      "execution_count": null,
      "outputs": [
        {
          "output_type": "stream",
          "text": [
            "6\n",
            "4 3 2 1 2 3 4\n",
            "Yes\n",
            "Yes\n",
            "Yes\n",
            "No\n",
            "No\n",
            "Yes\n"
          ],
          "name": "stdout"
        }
      ]
    },
    {
      "cell_type": "code",
      "metadata": {
        "id": "zcLlsAqaOM_l",
        "colab": {
          "base_uri": "https://localhost:8080/",
          "height": 102
        },
        "outputId": "dfa9c904-1a0e-4b9e-b0b2-2164bb36db19"
      },
      "source": [
        "a = list(map(int,input().split(\" \")))\n",
        "n = a[0]\n",
        "m = a[1]\n",
        "array = list(map(int,input().split(\" \"))) #list inputs\n",
        "array = set(array)\n",
        "set1 = set(map(int,input().split(\" \")))  #set inputs\n",
        "set2 = set(map(int,input().split(\" \")))\n",
        "b = len(array.intersection(set1))\n",
        "c = len(array.intersection(set2))\n",
        "print(b-c)"
      ],
      "execution_count": null,
      "outputs": [
        {
          "output_type": "stream",
          "text": [
            "2 3\n",
            "1 5 3\n",
            "1 3\n",
            "5 7\n",
            "1\n"
          ],
          "name": "stdout"
        }
      ]
    },
    {
      "cell_type": "code",
      "metadata": {
        "id": "dbmQxBn3ky95"
      },
      "source": [
        "n = int(input())\n",
        "a =list(map(input().split(\" \")))\n",
        "for i in a:\n",
        "  "
      ],
      "execution_count": null,
      "outputs": []
    },
    {
      "cell_type": "markdown",
      "metadata": {
        "id": "bDdig_4vRfOO"
      },
      "source": [
        "if n number of test cases are given ... is a1 subset of b1?"
      ]
    },
    {
      "cell_type": "code",
      "metadata": {
        "id": "P9whDZprRdjd",
        "colab": {
          "base_uri": "https://localhost:8080/",
          "height": 289
        },
        "outputId": "140336a9-8f17-46de-803f-9f402e2c97ea"
      },
      "source": [
        "n = int(input())\n",
        "for i in range(n):\n",
        "    a = int(input())\n",
        "    a1 = set(map(int,input().split(\" \")))\n",
        "    b = int(input())\n",
        "    b1 = set(map(int,input().split(\" \")))\n",
        "    print(a1.issubset(b1))"
      ],
      "execution_count": null,
      "outputs": [
        {
          "output_type": "stream",
          "text": [
            "3\n",
            "3\n",
            "1 2 3\n",
            "3\n",
            "1 2 4\n",
            "False\n",
            "2\n",
            "3 5\n",
            "4\n",
            "1 3 4 5\n",
            "True\n",
            "5\n",
            "1 2 3 4 5\n",
            "2\n",
            "1 2\n",
            "False\n"
          ],
          "name": "stdout"
        }
      ]
    },
    {
      "cell_type": "code",
      "metadata": {
        "id": "wvj2ltK_ZMVH",
        "colab": {
          "base_uri": "https://localhost:8080/",
          "height": 102
        },
        "outputId": "85806556-35af-457f-b160-08ca7c8138fc"
      },
      "source": [
        "a = set(map(int,input().split(\" \")))\n",
        "n = int(input())\n",
        "l = []\n",
        "for i in range(n):\n",
        "    b = set(map(int,input().split(\" \")))\n",
        "    d = a.issuperset(b)\n",
        "    l.append(d)\n",
        "x = all(l) #returns true if all elements are true, else false\n",
        "print(x)\n",
        "  \n",
        "  "
      ],
      "execution_count": null,
      "outputs": [
        {
          "output_type": "stream",
          "text": [
            "1 2 3 4 5\n",
            "2\n",
            "10 11 12\n",
            "1 2 3\n",
            "False\n"
          ],
          "name": "stdout"
        }
      ]
    },
    {
      "cell_type": "code",
      "metadata": {
        "id": "HrgbnIK0hl8l",
        "colab": {
          "base_uri": "https://localhost:8080/",
          "height": 527
        },
        "outputId": "7439e9cf-c4fb-4766-b2fd-16e0eae68ba7"
      },
      "source": [
        "n = 5\n",
        "a = \"\"\n",
        "for i in range(1,n+1):\n",
        "  for j in range(i):\n",
        "    print(i)\n",
        "  print(\"\\n\")\n",
        "\n",
        "for k in range(1,n+1): \n",
        "    print(k * 10**k //9)\n"
      ],
      "execution_count": null,
      "outputs": [
        {
          "output_type": "stream",
          "text": [
            "1\n",
            "\n",
            "\n",
            "2\n",
            "2\n",
            "\n",
            "\n",
            "3\n",
            "3\n",
            "3\n",
            "\n",
            "\n",
            "4\n",
            "4\n",
            "4\n",
            "4\n",
            "\n",
            "\n",
            "5\n",
            "5\n",
            "5\n",
            "5\n",
            "5\n",
            "\n",
            "\n",
            "1\n",
            "22\n",
            "333\n",
            "4444\n",
            "55555\n"
          ],
          "name": "stdout"
        }
      ]
    },
    {
      "cell_type": "code",
      "metadata": {
        "id": "P328vXCfzh8s",
        "colab": {
          "base_uri": "https://localhost:8080/",
          "height": 68
        },
        "outputId": "3601d8e1-8aa5-448e-d109-a08b92f59235"
      },
      "source": [
        "n = input()\n",
        "a = list(n)\n",
        "print(a)\n",
        "a = a.sort(reverse=False)\n",
        "print(a)"
      ],
      "execution_count": null,
      "outputs": [
        {
          "output_type": "stream",
          "text": [
            "Sorting1234\n",
            "['S', 'o', 'r', 't', 'i', 'n', 'g', '1', '2', '3', '4']\n",
            "None\n"
          ],
          "name": "stdout"
        }
      ]
    },
    {
      "cell_type": "code",
      "metadata": {
        "id": "N81IHAzr3cyp",
        "colab": {
          "base_uri": "https://localhost:8080/",
          "height": 136
        },
        "outputId": "2267c28c-d643-437e-8673-2011cd96bcfb"
      },
      "source": [
        "a = list(map(int,input().split(\" \")[:2]))\n",
        "n = a[1]\n",
        "m = a[0]\n",
        "for i in range(n):\n",
        "  b = list(map(int,input().split(\" \")[:m]))\n",
        "  c = sum(b)/m\n",
        "  print(round(c,1))\n"
      ],
      "execution_count": null,
      "outputs": [
        {
          "output_type": "stream",
          "text": [
            "5 3\n",
            "89 90 78 93 80\n",
            "86.0\n",
            "90 91 88 85 86\n",
            "88.0\n",
            "98 67 34 32 15\n",
            "49.2\n"
          ],
          "name": "stdout"
        }
      ]
    },
    {
      "cell_type": "code",
      "metadata": {
        "id": "Rh2LufKE7xhG",
        "colab": {
          "base_uri": "https://localhost:8080/",
          "height": 68
        },
        "outputId": "0ed048fb-6e4d-452c-9cb6-45bb9b8c9883"
      },
      "source": [
        "n = int(input())\n",
        "arr = list(map(int,input().split(\" \")))\n",
        "\n",
        "m = [x for x in arr if arr.count(x)!=n]\n",
        "print(m)\n",
        "\n",
        "\n"
      ],
      "execution_count": null,
      "outputs": [
        {
          "output_type": "stream",
          "text": [
            "5\n",
            "1 2 3 4 5 1 2 3 4 5 1 2 3 4 5 1 2 3 4 5 1 2 3 4 5 8\n",
            "[8]\n"
          ],
          "name": "stdout"
        }
      ]
    },
    {
      "cell_type": "code",
      "metadata": {
        "id": "45e-TPH6cJOW",
        "colab": {
          "base_uri": "https://localhost:8080/",
          "height": 34
        },
        "outputId": "ba2c5ebb-0776-4667-840e-21b3811460a6"
      },
      "source": [
        "import numpy as np\n",
        "\n",
        "myArray=np.array([1,2,4])  #func used to convert [1,2,3] list into an array\n",
        "print(myArray)"
      ],
      "execution_count": null,
      "outputs": [
        {
          "output_type": "stream",
          "text": [
            "[1 2 4]\n"
          ],
          "name": "stdout"
        }
      ]
    },
    {
      "cell_type": "code",
      "metadata": {
        "id": "vAZlwn65MOs3"
      },
      "source": [
        "T = int(input())\n",
        "for tc in range(T):\n",
        "\t# Read integers a and b.\n",
        "\t(a, b) = map(int, input().split(' '))\n",
        "\t\n",
        "\tans = a + b\n",
        "\tprint(ans)"
      ],
      "execution_count": null,
      "outputs": []
    },
    {
      "cell_type": "markdown",
      "metadata": {
        "id": "Dta-m0AlMWWF"
      },
      "source": [
        "T = int(input())\n",
        "for tc in range(T):\n",
        "\t# Read integers a and b.\n",
        "\t(a, b) = map(int, input().split(' '))\n",
        "\t\n",
        "\tans = a + b\n",
        "\tprint(ans)\n",
        "\n",
        "  test case additions"
      ]
    },
    {
      "cell_type": "code",
      "metadata": {
        "id": "Npk22cRAtURY",
        "colab": {
          "base_uri": "https://localhost:8080/",
          "height": 102
        },
        "outputId": "59183b75-40a3-4eb0-bdc0-e393a3508936"
      },
      "source": [
        "n = int(input())\n",
        "for i in range(n):\n",
        "    x = list(map(int, input().split(' ')[:3]))\n",
        "    a = max(x)\n",
        "    x = x.remove(a)\n",
        "    print(max(x))\n",
        "    "
      ],
      "execution_count": null,
      "outputs": [
        {
          "output_type": "stream",
          "text": [
            "2\n",
            "12 34 3\n",
            "None\n",
            "1 2 3\n",
            "None\n"
          ],
          "name": "stdout"
        }
      ]
    },
    {
      "cell_type": "markdown",
      "metadata": {
        "id": "gpDxzw5waMZq"
      },
      "source": [
        "for printing floatinig points upto those many places\n",
        "\n",
        "print(\"{:.2f}\".format(a))\n",
        "\n",
        "13.95\n",
        "\n",
        "print(\"{:.2f}\".format(round(a, 2)))\n",
        "\n",
        "13.95\n",
        "\n",
        " print(\"{:.15f}\".format(round(a, 2)))\n",
        " \n",
        "13.949999999999999"
      ]
    },
    {
      "cell_type": "markdown",
      "metadata": {
        "id": "e46jT2Q0hR0K"
      },
      "source": [
        "Armstrong no"
      ]
    },
    {
      "cell_type": "code",
      "metadata": {
        "id": "NEgy8mDygjeb",
        "colab": {
          "base_uri": "https://localhost:8080/",
          "height": 51
        },
        "outputId": "36e46b3a-e837-4395-ea93-e89ee92dc308"
      },
      "source": [
        "n = int(input())\n",
        "temp = n\n",
        "sum1 = 0\n",
        "while(temp > 0):\n",
        "    a = temp % 10\n",
        "    sum1 = sum1 + a**3\n",
        "    temp = temp//10\n",
        "print(sum1)"
      ],
      "execution_count": null,
      "outputs": [
        {
          "output_type": "stream",
          "text": [
            "153\n",
            "153\n"
          ],
          "name": "stdout"
        }
      ]
    },
    {
      "cell_type": "markdown",
      "metadata": {
        "id": "l_RaWNLWhW0s"
      },
      "source": [
        "Narcissist number"
      ]
    },
    {
      "cell_type": "code",
      "metadata": {
        "id": "s9qAFteXhZLF"
      },
      "source": [
        "n = int(input())\n",
        "sum1 = 0\n",
        "temp = n\n",
        "a = n \n",
        "d =0\n",
        "while(a>0):\n",
        "  d = d+ 1\n",
        "  n = n//10\n",
        "while(temp>0):\n",
        "  b = temp % 10\n",
        "  sum1 = sum1 + b**int(d)\n",
        "  temp = temp//10\n",
        "if n == sum1:\n",
        "  print(\"Yes\")\n",
        "else:\n",
        "  print(\"No\")\n"
      ],
      "execution_count": null,
      "outputs": []
    },
    {
      "cell_type": "code",
      "metadata": {
        "id": "jNpLy9mIqmr8",
        "colab": {
          "base_uri": "https://localhost:8080/",
          "height": 68
        },
        "outputId": "fa01d707-5a23-4aab-afc7-276a89128017"
      },
      "source": [
        "n = int(input())\n",
        "a = list(map(int,input().split(\" \")))\n",
        "b = a[::-1]\n",
        "c = ' '.join([str(item) for item in b ])\n",
        "\n",
        "print(c)\n"
      ],
      "execution_count": null,
      "outputs": [
        {
          "output_type": "stream",
          "text": [
            "5\n",
            "1 2 3 4 5\n",
            "5 4 3 2 1\n"
          ],
          "name": "stdout"
        }
      ]
    },
    {
      "cell_type": "code",
      "metadata": {
        "id": "BwWnaVvG3Ulb",
        "colab": {
          "base_uri": "https://localhost:8080/",
          "height": 36
        },
        "outputId": "c1655640-b86d-45b8-a698-c65bd79979ff"
      },
      "source": [
        "x, y = [int(x) for x in input().split()] \n",
        "print(y.issubset(x))\n"
      ],
      "execution_count": null,
      "outputs": [
        {
          "output_type": "stream",
          "text": [
            "10 1\n"
          ],
          "name": "stdout"
        }
      ]
    },
    {
      "cell_type": "code",
      "metadata": {
        "id": "31hEQL3RsPJH"
      },
      "source": [
        "a = 4\n",
        "x, y,z = [int(x) for x in a]"
      ],
      "execution_count": null,
      "outputs": []
    },
    {
      "cell_type": "code",
      "metadata": {
        "id": "uYImiBmSLSAj",
        "colab": {
          "base_uri": "https://localhost:8080/",
          "height": 68
        },
        "outputId": "c938cb51-e22f-47d2-d7b7-1e0939a8b4d8"
      },
      "source": [
        "n = input()\n",
        "n = n.lower()\n",
        "a = \"abcdefghijklmnopqrstuvwxyz\"\n",
        "n = set(n)\n",
        "n = \"\".join(n)\n",
        "print(n)\n",
        "if len(n) == 26 or 27:\n",
        "    print(\"pangram\")\n",
        "else:\n",
        "    print(\"not pangram\")"
      ],
      "execution_count": null,
      "outputs": [
        {
          "output_type": "stream",
          "text": [
            "We promptly judged antique ivory buckles for the next prize\n",
            "kiunawectgjdrhqszofmvxp bly\n",
            "pangram\n"
          ],
          "name": "stdout"
        }
      ]
    },
    {
      "cell_type": "code",
      "metadata": {
        "id": "9FvE_zpcqcYX",
        "colab": {
          "base_uri": "https://localhost:8080/",
          "height": 68
        },
        "outputId": "88a092d5-1f3c-4092-cf7f-d9004db2502c"
      },
      "source": [
        "n = int(input())\n",
        "a = \"G\"\n",
        "b = \"d\"\n",
        "d = n * \"o\"\n",
        "print(d)\n",
        "print(a+d+b)"
      ],
      "execution_count": null,
      "outputs": [
        {
          "output_type": "stream",
          "text": [
            "4\n",
            "oooo\n",
            "Gooood\n"
          ],
          "name": "stdout"
        }
      ]
    },
    {
      "cell_type": "code",
      "metadata": {
        "id": "XkC2WyowrWf_",
        "colab": {
          "base_uri": "https://localhost:8080/",
          "height": 51
        },
        "outputId": "258ddda6-eeec-4974-ce8c-7133210e9ea6"
      },
      "source": [
        "n = input()\n",
        "a = n[0]\n",
        "b = n[1]\n",
        "even = \"\"\n",
        "odd = \"\"\n",
        "\n",
        "for i in range(2,len(n)):\n",
        "    if i%2 == 0:\n",
        "       even = even + n[i]\n",
        "    else:\n",
        "       odd = odd + n[i]\n",
        "even = a + even\n",
        "odd = b + odd\n",
        "print(odd+even)"
      ],
      "execution_count": null,
      "outputs": [
        {
          "output_type": "stream",
          "text": [
            "afdg5tg\n",
            "fgtad5g\n"
          ],
          "name": "stdout"
        }
      ]
    },
    {
      "cell_type": "code",
      "metadata": {
        "id": "iIHFN1YBx4u-",
        "colab": {
          "base_uri": "https://localhost:8080/",
          "height": 85
        },
        "outputId": "477fd68a-f9db-488c-85dc-cb6927abf30a"
      },
      "source": [
        "(a,b) = map(int,input().split(\" \"))\n",
        "zer = 0\n",
        "n = (a*b)/2 \n",
        "\n",
        "count = 0\n",
        "for i in range(a):\n",
        "    x = list(map(int,input().split(\" \")[:b]))\n",
        "    for j in x:\n",
        "      if j == 0:\n",
        "        count = count + 1\n",
        "if count > n:\n",
        "  print(\"Yes\")\n",
        "else:\n",
        "  print(\"No\")\n",
        "\n"
      ],
      "execution_count": null,
      "outputs": [
        {
          "output_type": "stream",
          "text": [
            "2 3\n",
            "5 0 0\n",
            "0 8 0\n",
            "Yes\n"
          ],
          "name": "stdout"
        }
      ]
    },
    {
      "cell_type": "code",
      "metadata": {
        "id": "iiSAV1OirmW7"
      },
      "source": [
        "n = input()\n",
        "n = list(n)\n",
        "a = []\n",
        "for i in n:\n",
        "  if n[i] "
      ],
      "execution_count": null,
      "outputs": []
    },
    {
      "cell_type": "code",
      "metadata": {
        "id": "YHBYFim-6is2",
        "colab": {
          "base_uri": "https://localhost:8080/",
          "height": 85
        },
        "outputId": "6159cb38-d627-44bc-ef6c-a48518810f28"
      },
      "source": [
        "n = int(input())\n",
        "l= []\n",
        "for i in range(n):\n",
        "    a = int(input())\n",
        "    x = list(map(int,input().split(\" \")[:a]))\n",
        "    for j in x:\n",
        "        b = x.count(j)\n",
        "        l.append(b)\n",
        "print(l)"
      ],
      "execution_count": null,
      "outputs": [
        {
          "output_type": "stream",
          "text": [
            "1\n",
            "8\n",
            "5 9 2 9 7 2 5 3\n",
            "[2, 2, 2, 2, 1, 2, 2, 1]\n"
          ],
          "name": "stdout"
        }
      ]
    },
    {
      "cell_type": "code",
      "metadata": {
        "id": "eqZXMsWxsIdn",
        "colab": {
          "base_uri": "https://localhost:8080/",
          "height": 238
        },
        "outputId": "703fff09-1103-422f-a53e-6eac9fafb978"
      },
      "source": [
        "import random\n",
        "x = list(map(int,input().split(\" \")[:5]))\n",
        "l = []\n",
        "m= []\n",
        "for i in range(10):\n",
        "    b = random.sample(x,4)\n",
        "    print(b)\n",
        "    m.append(sum(b))\n",
        "       \n",
        "print(m)\n",
        "print(\"{} {}\".format(min(m),max(m)))"
      ],
      "execution_count": null,
      "outputs": [
        {
          "output_type": "stream",
          "text": [
            "1 2 3 4 5\n",
            "[3, 5, 2, 1]\n",
            "[2, 5, 1, 3]\n",
            "[2, 4, 1, 5]\n",
            "[4, 3, 5, 2]\n",
            "[4, 3, 1, 5]\n",
            "[3, 1, 5, 2]\n",
            "[5, 1, 2, 4]\n",
            "[1, 5, 3, 4]\n",
            "[4, 5, 2, 3]\n",
            "[4, 3, 5, 2]\n",
            "[11, 11, 12, 14, 13, 11, 12, 13, 14, 14]\n",
            "11 14\n"
          ],
          "name": "stdout"
        }
      ]
    },
    {
      "cell_type": "code",
      "metadata": {
        "id": "ArEoLuwDv14J",
        "colab": {
          "base_uri": "https://localhost:8080/",
          "height": 102
        },
        "outputId": "c0685411-20e2-4205-bd57-d2a991bfaa66"
      },
      "source": [
        "n = int(input())\n",
        "count = 0\n",
        "for i in range(n):\n",
        "    a = input()\n",
        "    b = list(a)\n",
        "    for j in b:\n",
        "        if int(j) != 0:\n",
        "            if int(a) % int(j) == 0:\n",
        "               count = count + 1\n",
        "    print(count)\n",
        "    count = 0\n"
      ],
      "execution_count": null,
      "outputs": [
        {
          "output_type": "stream",
          "text": [
            "2\n",
            "12\n",
            "2\n",
            "1012\n",
            "3\n"
          ],
          "name": "stdout"
        }
      ]
    },
    {
      "cell_type": "code",
      "metadata": {
        "id": "r4DmbUh10gCr",
        "colab": {
          "base_uri": "https://localhost:8080/",
          "height": 85
        },
        "outputId": "f9d46c42-308f-4497-ac93-6fceee3ead54"
      },
      "source": [
        "n = int(input())\n",
        "a = int(input())\n",
        "x = list(map(int,input().split(\" \")[:a]))\n",
        "print(x.index(n))\n"
      ],
      "execution_count": null,
      "outputs": [
        {
          "output_type": "stream",
          "text": [
            "4\n",
            "6\n",
            "1 4 3 5 6 7\n",
            "1\n"
          ],
          "name": "stdout"
        }
      ]
    },
    {
      "cell_type": "code",
      "metadata": {
        "id": "9mwthD1_1XBY",
        "colab": {
          "base_uri": "https://localhost:8080/",
          "height": 544
        },
        "outputId": "d1a72736-af4a-42e0-e426-35292d1c41ab"
      },
      "source": [
        "a = input()\n",
        "a = list(a)\n",
        "b = \" \"\n",
        "for i in a:\n",
        "  if 64 < ord(i) < 91:\n",
        "    print(\"\\n\")\n",
        "  else:\n",
        "    b = b+ i\n",
        "  print(b)\n",
        "  \n",
        "  \n",
        "    "
      ],
      "execution_count": null,
      "outputs": [
        {
          "output_type": "stream",
          "text": [
            "saveChangesInTheEditor\n",
            " s\n",
            " sa\n",
            " sav\n",
            " save\n",
            "\n",
            "\n",
            " save\n",
            " saveh\n",
            " saveha\n",
            " savehan\n",
            " savehang\n",
            " savehange\n",
            " savehanges\n",
            "\n",
            "\n",
            " savehanges\n",
            " savehangesn\n",
            "\n",
            "\n",
            " savehangesn\n",
            " savehangesnh\n",
            " savehangesnhe\n",
            "\n",
            "\n",
            " savehangesnhe\n",
            " savehangesnhed\n",
            " savehangesnhedi\n",
            " savehangesnhedit\n",
            " savehangesnhedito\n",
            " savehangesnheditor\n"
          ],
          "name": "stdout"
        }
      ]
    },
    {
      "cell_type": "code",
      "metadata": {
        "id": "B0tn_6ai36-K",
        "colab": {
          "base_uri": "https://localhost:8080/",
          "height": 68
        },
        "outputId": "49017cbb-e6e6-4478-f3a0-cfae0324e1df"
      },
      "source": [
        "n = int(input())\n",
        "x =map(int,input().split(\" \")[:n]))\n",
        "b = \" \"\n",
        "x.sort()\n",
        "for i in x:\n",
        "    b = \" \".join(str(i))\n",
        "print(b)\n"
      ],
      "execution_count": null,
      "outputs": [
        {
          "output_type": "stream",
          "text": [
            "6\n",
            "1 5 4 3 2 6\n",
            "6\n"
          ],
          "name": "stdout"
        }
      ]
    },
    {
      "cell_type": "code",
      "metadata": {
        "id": "j2gYgmkKCGA0"
      },
      "source": [
        "n = int(input())\n",
        "x =list(map(int,input().split(\" \")[:n]))\n",
        "a = \" \"\n",
        "for i in range(0,n):\n",
        "  b = x.count(x[i])\n",
        "  a = a + str(b)\n",
        "print(a)\n",
        "\n"
      ],
      "execution_count": null,
      "outputs": []
    },
    {
      "cell_type": "code",
      "metadata": {
        "id": "8j7VD2kk3Thy",
        "colab": {
          "base_uri": "https://localhost:8080/",
          "height": 136
        },
        "outputId": "30b29d2e-3a00-4f61-ef18-df72d7343e00"
      },
      "source": [
        "n = int(input())\n",
        "for i in range(n):\n",
        "    a,b,c = list(map(int,input().split(\" \")))\n",
        "    d = c - a\n",
        "    d = abs(d)\n",
        "    e = c - b\n",
        "    e = abs(e)\n",
        "\n",
        "    if  d > e:\n",
        "        print(\"Cat B\")\n",
        "    elif d < e:\n",
        "        print(\"Cat A\")\n",
        "    else:\n",
        "        print(\"Mouse C\")\n",
        "print(d)\n",
        "print(e)"
      ],
      "execution_count": null,
      "outputs": [
        {
          "output_type": "stream",
          "text": [
            "2\n",
            "1 2 3\n",
            "Cat A\n",
            "1 3 2\n",
            "Mouse C\n",
            "1\n",
            "1\n"
          ],
          "name": "stdout"
        }
      ]
    },
    {
      "cell_type": "code",
      "metadata": {
        "id": "RB05DoE4J7-M",
        "colab": {
          "base_uri": "https://localhost:8080/",
          "height": 136
        },
        "outputId": "7ee198ed-dde9-436e-e88b-a844068830a0"
      },
      "source": [
        "n = int(input())\n",
        "\n",
        "m = []\n",
        "for i in range(n):\n",
        "    a = input()\n",
        "    l = list(a)\n",
        "    b = input()\n",
        "    b = list(b)\n",
        "    l.extend(b)\n",
        "    for k in l:\n",
        "       c = l.count(k)\n",
        "       m.append(c)\n",
        "\n",
        "    if 2 in m:\n",
        "        print(\"YES\")\n",
        "    else:\n",
        "        print(\"NO\")\n",
        "        \n"
      ],
      "execution_count": null,
      "outputs": [
        {
          "output_type": "stream",
          "text": [
            "2\n",
            "hello \n",
            "world\n",
            "YES\n",
            "hi\n",
            "world\n",
            "YES\n"
          ],
          "name": "stdout"
        }
      ]
    },
    {
      "cell_type": "code",
      "metadata": {
        "id": "pxKfT1x6qEdP"
      },
      "source": [
        "for i in range(1,100):\n",
        "  a = i\n",
        "  b = i * i\n",
        "  sum1 = 0\n",
        "  sum2 = 0\n",
        "  while(a>0):\n",
        "    r = a % 10\n",
        "    sum1 = sum1 + r\n",
        "    a = a//10\n",
        "  while(b>0):\n",
        "    r1 = b % 10\n",
        "    sum2 = sum2 + r1\n",
        "    b = b//10\n",
        "  if sum1==sum2:\n",
        "    print(a)\n",
        "  "
      ],
      "execution_count": null,
      "outputs": []
    }
  ]
}
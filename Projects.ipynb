{
  "nbformat": 4,
  "nbformat_minor": 0,
  "metadata": {
    "colab": {
      "name": "Projects.ipynb",
      "provenance": [],
      "authorship_tag": "ABX9TyNXTJnhPJj13K9CwHrdfXhf",
      "include_colab_link": true
    },
    "kernelspec": {
      "name": "python3",
      "display_name": "Python 3"
    }
  },
  "cells": [
    {
      "cell_type": "markdown",
      "metadata": {
        "id": "view-in-github",
        "colab_type": "text"
      },
      "source": [
        "<a href=\"https://colab.research.google.com/github/SparshaAbhinethri/Python/blob/main/Projects.ipynb\" target=\"_parent\"><img src=\"https://colab.research.google.com/assets/colab-badge.svg\" alt=\"Open In Colab\"/></a>"
      ]
    },
    {
      "cell_type": "markdown",
      "metadata": {
        "id": "QVuOjuVHlsBt"
      },
      "source": [
        "Rock Paper Scissors"
      ]
    },
    {
      "cell_type": "code",
      "metadata": {
        "id": "ePUzyT_blmV7",
        "colab": {
          "base_uri": "https://localhost:8080/",
          "height": 85
        },
        "outputId": "a82d547f-8f37-4efd-94c5-ddbfd1d9e0ae"
      },
      "source": [
        "from random import randint\n",
        "\n",
        "\n",
        "a = [\"Rock\",\"Paper\",\"Scissor\"]\n",
        "computer = a[randint(0,2)]\n",
        "\n",
        "choice = False\n",
        "while choice == False:\n",
        "  player = input(\"Rock , Paper , Scissors\")\n",
        "  print(computer)\n",
        "  \n",
        "  if player == computer:\n",
        "    print(\"Tie\")\n",
        "  elif player == \"Rock\":\n",
        "    if computer == \"Scissors\":\n",
        "       print(\"You Won\")\n",
        "    elif computer == \"Paper\":\n",
        "      print(\"You Lost\")\n",
        "    else:\n",
        "      print(\"You Lost\")\n",
        "  elif player == \"Paper\":\n",
        "    if computer == \"Rock\":\n",
        "      print(\"You Won\")\n",
        "    elif computer == \"Scissors\":\n",
        "      print(\"You Lost\")\n",
        "    else:\n",
        "      print(\"You Lost\")\n",
        "  elif player == \"Scissors\":\n",
        "    if computer == \"Paper\":\n",
        "      print(\"You Won\")\n",
        "    elif computer == \"Rock\":\n",
        "      print(\"You Lost\")\n",
        "    else:\n",
        "      print(\"You Lost\")\n",
        "  else:\n",
        "    print(\"Invalid,Please choose appropriate input\")\n",
        "  player = False\n",
        "  computer = a[randint(0,2)]\n",
        "  \n",
        "  \n",
        "  "
      ],
      "execution_count": null,
      "outputs": [
        {
          "output_type": "stream",
          "text": [
            "Rock , Paper , ScissorsPaper\n",
            "Paper\n",
            "Tie\n",
            "Do you want to continue ? Yes\n"
          ],
          "name": "stdout"
        }
      ]
    }
  ]
}
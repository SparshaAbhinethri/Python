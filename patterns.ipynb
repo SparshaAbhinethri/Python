{
  "nbformat": 4,
  "nbformat_minor": 0,
  "metadata": {
    "colab": {
      "name": "patterns.ipynb",
      "provenance": [],
      "authorship_tag": "ABX9TyPtQb2v6QzjO29dDTHIidfl",
      "include_colab_link": true
    },
    "kernelspec": {
      "name": "python3",
      "display_name": "Python 3"
    }
  },
  "cells": [
    {
      "cell_type": "markdown",
      "metadata": {
        "id": "view-in-github",
        "colab_type": "text"
      },
      "source": [
        "<a href=\"https://colab.research.google.com/github/SparshaAbhinethri/Python/blob/main/patterns.ipynb\" target=\"_parent\"><img src=\"https://colab.research.google.com/assets/colab-badge.svg\" alt=\"Open In Colab\"/></a>"
      ]
    },
    {
      "cell_type": "code",
      "metadata": {
        "id": "IuughQWAleyn",
        "colab": {
          "base_uri": "https://localhost:8080/",
          "height": 136
        },
        "outputId": "43ad7478-7dd8-40fe-8bc8-0400873fce0d"
      },
      "source": [
        "rows = int(input(\"Please Enter the Total Number of Rows  : \"))\n",
        "\n",
        "print(\"Right Angled Triangle Star Pattern\")\n",
        "i = 1\n",
        "while(i <= rows):\n",
        "    j = 1\n",
        "    while(j <= i):\n",
        "        print('*', end = '  ')\n",
        "        j = j + 1\n",
        "    i = i + 1\n",
        "    print()"
      ],
      "execution_count": null,
      "outputs": [
        {
          "output_type": "stream",
          "text": [
            "Please Enter the Total Number of Rows  : 5\n",
            "Right Angled Triangle Star Pattern\n",
            "*  \n",
            "*  *  \n",
            "*  *  *  \n",
            "*  *  *  *  \n",
            "*  *  *  *  *  \n"
          ],
          "name": "stdout"
        }
      ]
    },
    {
      "cell_type": "code",
      "metadata": {
        "id": "YZMap-Cv5JFU",
        "colab": {
          "base_uri": "https://localhost:8080/",
          "height": 119
        },
        "outputId": "bc0aead6-8987-4248-efc8-5c5ea34d24be"
      },
      "source": [
        "def halfDiamondStar(N): \n",
        "      \n",
        "     \n",
        "    for i in range(N): \n",
        "  \n",
        "        for j in range(0, i + 1): \n",
        "            print(\"*\", end = \"\") \n",
        "        print() \n",
        "  \n",
        "    \n",
        "    for i in range(1, N): \n",
        "  \n",
        "        for j in range(i, N): \n",
        "            print(\"*\", end = \"\") \n",
        "        print() \n",
        "  \n",
        "  \n",
        "N = int(input())\n",
        "  \n",
        "halfDiamondStar(N)\n",
        "  "
      ],
      "execution_count": null,
      "outputs": [
        {
          "output_type": "stream",
          "text": [
            "3\n",
            "*\n",
            "**\n",
            "***\n",
            "**\n",
            "*\n"
          ],
          "name": "stdout"
        }
      ]
    },
    {
      "cell_type": "code",
      "metadata": {
        "id": "y9QNNas37DVi",
        "colab": {
          "base_uri": "https://localhost:8080/",
          "height": 102
        },
        "outputId": "3da1f9e7-a613-4d71-9edd-3624f5bc31ef"
      },
      "source": [
        "def print_rectangle(n, m) : \n",
        "      \n",
        "    for i in range(1, n+1) : \n",
        "        for j in range(1, m+1) : \n",
        "            if (i == 1 or i == n or\n",
        "                j == 1 or j == m) : \n",
        "                print(\"*\", end=\"\")             \n",
        "            else : \n",
        "                print(\" \", end=\"\")             \n",
        "          \n",
        "        print() \n",
        "rows,columns = map(int,input().split(\" \"))\n",
        "print_rectangle(columns,rows) "
      ],
      "execution_count": null,
      "outputs": [
        {
          "output_type": "stream",
          "text": [
            "5 4\n",
            "*****\n",
            "*   *\n",
            "*   *\n",
            "*****\n"
          ],
          "name": "stdout"
        }
      ]
    },
    {
      "cell_type": "code",
      "metadata": {
        "id": "ptgSz2bYmuuw",
        "colab": {
          "base_uri": "https://localhost:8080/",
          "height": 136
        },
        "outputId": "877f988a-b93f-48e3-9c27-6f5e634f7fd7"
      },
      "source": [
        "currentNumber = 1\n",
        "rows = int(input())# Rows you want in your pattern\n",
        "stop = 2\n",
        "for i in range(rows):\n",
        "    for column in range(1, stop):\n",
        "        print(currentNumber, end=' ')\n",
        "        currentNumber += 1\n",
        "    print(\"\")\n",
        "    stop += 1"
      ],
      "execution_count": null,
      "outputs": [
        {
          "output_type": "stream",
          "text": [
            "6\n",
            "1 \n",
            "2 3 \n",
            "4 5 6 \n",
            "7 8 9 10 \n",
            "11 12 13 14 15 \n",
            "16 17 18 19 20 21 \n"
          ],
          "name": "stdout"
        }
      ]
    },
    {
      "cell_type": "markdown",
      "metadata": {
        "id": "7ZQawgfjoxeK"
      },
      "source": [
        "To count if all letters are present in a given string"
      ]
    },
    {
      "cell_type": "code",
      "metadata": {
        "id": "W4oCUtBzn7ba",
        "colab": {
          "base_uri": "https://localhost:8080/",
          "height": 68
        },
        "outputId": "a638e453-0bb5-45db-8856-4a34c62001fb"
      },
      "source": [
        "n = input()\n",
        "n = n.lower()\n",
        "n = set(n)\n",
        "print(n)\n",
        "n = \"\".join(n)\n",
        "print(len(n))"
      ],
      "execution_count": null,
      "outputs": [
        {
          "output_type": "stream",
          "text": [
            "askhtwsflkqwertyuiopasdfghjklzxcvbnm\n",
            "{'n', 'i', 'g', 'x', 'u', 'f', 'd', 's', 'c', 'j', 'q', 'v', 'b', 'm', 'e', 'z', 'h', 'l', 'p', 'a', 't', 'r', 'o', 'k', 'y', 'w'}\n",
            "26\n"
          ],
          "name": "stdout"
        }
      ]
    }
  ]
}